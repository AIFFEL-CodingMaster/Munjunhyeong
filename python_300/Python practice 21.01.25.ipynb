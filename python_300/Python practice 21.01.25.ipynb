{
 "cells": [
  {
   "cell_type": "markdown",
   "metadata": {},
   "source": [
    "# Python 연습문제"
   ]
  },
  {
   "cell_type": "code",
   "execution_count": null,
   "metadata": {},
   "outputs": [],
   "source": []
  },
  {
   "cell_type": "code",
   "execution_count": 3,
   "metadata": {},
   "outputs": [
    {
     "name": "stdout",
     "output_type": "stream",
     "text": [
      "[100, 130, 140, 150, 160, 170]\n"
     ]
    }
   ],
   "source": [
    "# 문제61 price 변수에는 날짜와 종가 정보가 저장돼 있다. 날짜 정보를 제외하고 가격 정보만을 출력하라.\n",
    "price = ['20180728', 100, 130, 140, 150, 160, 170]\n",
    "print (price[1:])"
   ]
  },
  {
   "cell_type": "code",
   "execution_count": 5,
   "metadata": {},
   "outputs": [
    {
     "name": "stdout",
     "output_type": "stream",
     "text": [
      "[1, 3, 5, 7, 9]\n"
     ]
    }
   ],
   "source": [
    "# 문제62 슬라이싱을 사용해서 홀수만 출력하라.\n",
    "nums = [1, 2, 3, 4, 5, 6, 7, 8, 9, 10]\n",
    "print (nums[0::2])"
   ]
  },
  {
   "cell_type": "code",
   "execution_count": 6,
   "metadata": {},
   "outputs": [
    {
     "name": "stdout",
     "output_type": "stream",
     "text": [
      "[2, 4, 6, 8, 10]\n"
     ]
    }
   ],
   "source": [
    "# 문제63 슬라이싱을 사용해서 짝수만 출력하라.\n",
    "nums = [1, 2, 3, 4, 5, 6, 7, 8, 9, 10]\n",
    "print (nums[1::2])"
   ]
  },
  {
   "cell_type": "code",
   "execution_count": 9,
   "metadata": {},
   "outputs": [
    {
     "ename": "SyntaxError",
     "evalue": "unexpected EOF while parsing (<ipython-input-9-ee46e266c20a>, line 3)",
     "output_type": "error",
     "traceback": [
      "\u001b[0;36m  File \u001b[0;32m\"<ipython-input-9-ee46e266c20a>\"\u001b[0;36m, line \u001b[0;32m3\u001b[0m\n\u001b[0;31m    print (nums[-4:]\u001b[0m\n\u001b[0m                    ^\u001b[0m\n\u001b[0;31mSyntaxError\u001b[0m\u001b[0;31m:\u001b[0m unexpected EOF while parsing\n"
     ]
    }
   ],
   "source": [
    "# 문제64 슬라이싱을 사용해서 리스트의 숫자를 역 방향으로 출력하라.\n",
    "nums = [1, 2, 3, 4, 5]\n",
    "print (nums[-4:]"
   ]
  },
  {
   "cell_type": "code",
   "execution_count": 10,
   "metadata": {},
   "outputs": [
    {
     "name": "stdout",
     "output_type": "stream",
     "text": [
      "[5, 4, 3, 2, 1]\n"
     ]
    }
   ],
   "source": [
    "# 문제64 정답\n",
    "nums = [1, 2, 3, 4, 5]\n",
    "print(nums[::-1])"
   ]
  },
  {
   "cell_type": "code",
   "execution_count": 14,
   "metadata": {},
   "outputs": [
    {
     "ename": "TypeError",
     "evalue": "list indices must be integers or slices, not tuple",
     "output_type": "error",
     "traceback": [
      "\u001b[0;31m---------------------------------------------------------------------------\u001b[0m",
      "\u001b[0;31mTypeError\u001b[0m                                 Traceback (most recent call last)",
      "\u001b[0;32m<ipython-input-14-1ae931dfdbe6>\u001b[0m in \u001b[0;36m<module>\u001b[0;34m\u001b[0m\n\u001b[1;32m      2\u001b[0m \u001b[0;31m#        interest 리스트를 사용하여 아래와 같이 화면에 출력하라.\u001b[0m\u001b[0;34m\u001b[0m\u001b[0;34m\u001b[0m\u001b[0;34m\u001b[0m\u001b[0m\n\u001b[1;32m      3\u001b[0m \u001b[0minterest\u001b[0m \u001b[0;34m=\u001b[0m \u001b[0;34m[\u001b[0m\u001b[0;34m'삼성전자'\u001b[0m\u001b[0;34m,\u001b[0m \u001b[0;34m'LG전자'\u001b[0m\u001b[0;34m,\u001b[0m \u001b[0;34m'Naver'\u001b[0m\u001b[0;34m]\u001b[0m\u001b[0;34m\u001b[0m\u001b[0;34m\u001b[0m\u001b[0m\n\u001b[0;32m----> 4\u001b[0;31m \u001b[0mprint\u001b[0m \u001b[0;34m(\u001b[0m\u001b[0minterest\u001b[0m\u001b[0;34m[\u001b[0m\u001b[0;36m0\u001b[0m\u001b[0;34m,\u001b[0m\u001b[0;36m2\u001b[0m\u001b[0;34m]\u001b[0m\u001b[0;34m)\u001b[0m\u001b[0;34m\u001b[0m\u001b[0;34m\u001b[0m\u001b[0m\n\u001b[0m",
      "\u001b[0;31mTypeError\u001b[0m: list indices must be integers or slices, not tuple"
     ]
    }
   ],
   "source": [
    "# 문제65 interest 리스트에는 아래의 데이터가 바인딩되어 있다.\n",
    "#        interest 리스트를 사용하여 아래와 같이 화면에 출력하라.\n",
    "interest = ['삼성전자', 'LG전자', 'Naver']\n",
    "print (interest[0,2])"
   ]
  },
  {
   "cell_type": "code",
   "execution_count": 15,
   "metadata": {},
   "outputs": [
    {
     "name": "stdout",
     "output_type": "stream",
     "text": [
      "삼성전자 Naver\n"
     ]
    }
   ],
   "source": [
    "# 문제65 정답\n",
    "interest = ['삼성전자', 'LG전자', 'Naver']\n",
    "print(interest[0], interest[2])"
   ]
  },
  {
   "cell_type": "code",
   "execution_count": 17,
   "metadata": {},
   "outputs": [
    {
     "name": "stdout",
     "output_type": "stream",
     "text": [
      "삼성전자 LG전자 Naver SK하이닉스 미래에셋대우\n"
     ]
    }
   ],
   "source": [
    "# 문제66 interest 리스트에는 아래의 데이터가 바인딩되어 있다.\n",
    "#       interest 리스트를 사용하여 아래와 같이 화면에 출력하라.\n",
    "interest = ['삼성전자', 'LG전자', 'Naver', 'SK하이닉스', '미래에셋대우']\n",
    "print (\" \".join(interest))"
   ]
  },
  {
   "cell_type": "code",
   "execution_count": 18,
   "metadata": {},
   "outputs": [
    {
     "name": "stdout",
     "output_type": "stream",
     "text": [
      "삼성전자/LG전자/Naver/SK하이닉스/미래에셋대우\n"
     ]
    }
   ],
   "source": [
    "# 문제67 interest 리스트에는 아래의 데이터가 바인딩되어 있다.\n",
    "#       interest 리스트를 사용하여 아래와 같이 화면에 출력하라.\n",
    "interest = ['삼성전자', 'LG전자', 'Naver', 'SK하이닉스', '미래에셋대우']\n",
    "print (\"/\".join(interest))"
   ]
  },
  {
   "cell_type": "code",
   "execution_count": 21,
   "metadata": {},
   "outputs": [
    {
     "name": "stdout",
     "output_type": "stream",
     "text": [
      "삼성전자\n",
      "LG전자\n",
      "Naver\n",
      "SK하이닉스\n",
      "미래에셋대우\n"
     ]
    }
   ],
   "source": [
    "# 문제68 interest 리스트에는 아래의 데이터가 바인딩되어 있다.\n",
    "#       interest 리스트를 사용하여 아래와 같이 화면에 출력하라.\n",
    "interest = ['삼성전자', 'LG전자', 'Naver', 'SK하이닉스', '미래에셋대우']\n",
    "print (\"\\n\".join(interest))"
   ]
  },
  {
   "cell_type": "code",
   "execution_count": 22,
   "metadata": {},
   "outputs": [
    {
     "name": "stdout",
     "output_type": "stream",
     "text": [
      "['삼성전자', 'LG전자', 'Naver']\n"
     ]
    }
   ],
   "source": [
    "# 문제69 회사 이름이 슬래시 ('/')로 구분되어 하나의 문자열로 저장되어 있다.\n",
    "#       이를 interest 이름의 리스트로 분리 저장하라.\n",
    "string = \"삼성전자/LG전자/Naver\"\n",
    "print (string.split(\"/\"))"
   ]
  },
  {
   "cell_type": "code",
   "execution_count": 23,
   "metadata": {},
   "outputs": [
    {
     "ename": "SyntaxError",
     "evalue": "invalid syntax (<ipython-input-23-340bd86061ac>, line 3)",
     "output_type": "error",
     "traceback": [
      "\u001b[0;36m  File \u001b[0;32m\"<ipython-input-23-340bd86061ac>\"\u001b[0;36m, line \u001b[0;32m3\u001b[0m\n\u001b[0;31m    print (data.)\u001b[0m\n\u001b[0m                ^\u001b[0m\n\u001b[0;31mSyntaxError\u001b[0m\u001b[0;31m:\u001b[0m invalid syntax\n"
     ]
    }
   ],
   "source": [
    "# 문제70 리스트에 있는 값을 오름차순으로 정렬하세요.\n",
    "data = [2, 4, 3, 1, 5, 10, 9]\n",
    "print (data.)"
   ]
  },
  {
   "cell_type": "code",
   "execution_count": 26,
   "metadata": {},
   "outputs": [
    {
     "name": "stdout",
     "output_type": "stream",
     "text": [
      "[1, 2, 3, 4, 5, 9, 10]\n"
     ]
    }
   ],
   "source": [
    "# 문제70 정답\n",
    "data = [2, 4, 3, 1, 5, 10, 9]\n",
    "data.sort()\n",
    "print (data)"
   ]
  },
  {
   "cell_type": "code",
   "execution_count": 2,
   "metadata": {},
   "outputs": [
    {
     "name": "stdout",
     "output_type": "stream",
     "text": [
      "()\n",
      "<class 'tuple'>\n"
     ]
    }
   ],
   "source": [
    "# 문제71 my_variable 이름의 비어있는 튜플을 만들라.\n",
    "my_variable = ()\n",
    "print (my_variable)\n",
    "print (type(my_variable))"
   ]
  },
  {
   "cell_type": "code",
   "execution_count": 4,
   "metadata": {},
   "outputs": [
    {
     "name": "stdout",
     "output_type": "stream",
     "text": [
      "('닥터 스트레인지', '스플릿', '럭키')\n",
      "<class 'tuple'>\n"
     ]
    }
   ],
   "source": [
    "# 문제72 2016년 11월 영화 예매 순위 기준 top3는 다음과 같다. 영화 제목을 movie_rank 이름의 튜플에 저장하라. (순위 정보는 저장하지 않는다.)\n",
    "movie_rank = (\"닥터 스트레인지\", \"스플릿\", \"럭키\")\n",
    "print (movie_rank)\n",
    "print (type(movie_rank))"
   ]
  },
  {
   "cell_type": "code",
   "execution_count": 6,
   "metadata": {},
   "outputs": [
    {
     "name": "stdout",
     "output_type": "stream",
     "text": [
      "1\n",
      "<class 'int'>\n"
     ]
    }
   ],
   "source": [
    "# 문제73 숫자 1 이 저장된 튜플을 생성하라.\n",
    "num = (1)\n",
    "print (num)\n",
    "print (type(num))"
   ]
  },
  {
   "cell_type": "code",
   "execution_count": 7,
   "metadata": {},
   "outputs": [
    {
     "ename": "SyntaxError",
     "evalue": "invalid syntax (<ipython-input-7-c7b11e94193b>, line 2)",
     "output_type": "error",
     "traceback": [
      "\u001b[0;36m  File \u001b[0;32m\"<ipython-input-7-c7b11e94193b>\"\u001b[0;36m, line \u001b[0;32m2\u001b[0m\n\u001b[0;31m    >> t = (1, 2, 3)\u001b[0m\n\u001b[0m     ^\u001b[0m\n\u001b[0;31mSyntaxError\u001b[0m\u001b[0;31m:\u001b[0m invalid syntax\n"
     ]
    }
   ],
   "source": [
    "# 문제74 다음 코드를 실행해보고 오류가 발생하는 원인을 설명하라\n",
    ">> t = (1, 2, 3)\n",
    ">> t[0] = 'a'\n",
    "Traceback (most recent call last):\n",
    "  File \"<pyshell#46>\", line 1, in <module>\n",
    "    t[0] = 'a'\n",
    "TypeError: 'tuple' object does not support item assignment\n",
    "\n",
    "# 튜플의 요소는 바꿀 수가 없기 때문에 t의 0번째 자리에 있는 수를 'a'로 바꿀 수 없다"
   ]
  },
  {
   "cell_type": "code",
   "execution_count": 8,
   "metadata": {},
   "outputs": [
    {
     "name": "stdout",
     "output_type": "stream",
     "text": [
      "(1, 2, 3, 4)\n",
      "<class 'tuple'>\n"
     ]
    }
   ],
   "source": [
    "# 문제75 아래와 같이 t에는 1, 2, 3, 4 데이터가 바인딩되어 있다. t가 바인딩하는 데이터 타입은 무엇인가?\n",
    "t = 1, 2, 3, 4\n",
    "print (t)\n",
    "print (type(t))\n",
    "\n",
    "# 원칙적으로 괄호로 원소들을 감싸줘야 하지만 편의상 생략해도 괜찮다"
   ]
  },
  {
   "cell_type": "code",
   "execution_count": 9,
   "metadata": {},
   "outputs": [
    {
     "ename": "AttributeError",
     "evalue": "'tuple' object has no attribute 'replace'",
     "output_type": "error",
     "traceback": [
      "\u001b[0;31m---------------------------------------------------------------------------\u001b[0m",
      "\u001b[0;31mAttributeError\u001b[0m                            Traceback (most recent call last)",
      "\u001b[0;32m<ipython-input-9-447a40968153>\u001b[0m in \u001b[0;36m<module>\u001b[0;34m\u001b[0m\n\u001b[1;32m      1\u001b[0m \u001b[0;31m# 문제76 변수 t에는 아래와 같은 값이 저장되어 있다. 변수 t가 ('A', 'b', 'c') 튜플을 가리키도록 수정 하라.\u001b[0m\u001b[0;34m\u001b[0m\u001b[0;34m\u001b[0m\u001b[0;34m\u001b[0m\u001b[0m\n\u001b[1;32m      2\u001b[0m \u001b[0mt\u001b[0m \u001b[0;34m=\u001b[0m \u001b[0;34m(\u001b[0m\u001b[0;34m'a'\u001b[0m\u001b[0;34m,\u001b[0m \u001b[0;34m'b'\u001b[0m\u001b[0;34m,\u001b[0m \u001b[0;34m'c'\u001b[0m\u001b[0;34m)\u001b[0m\u001b[0;34m\u001b[0m\u001b[0;34m\u001b[0m\u001b[0m\n\u001b[0;32m----> 3\u001b[0;31m \u001b[0mt\u001b[0m\u001b[0;34m.\u001b[0m\u001b[0mreplace\u001b[0m\u001b[0;34m(\u001b[0m\u001b[0;34m'a'\u001b[0m\u001b[0;34m,\u001b[0m \u001b[0;34m'A'\u001b[0m\u001b[0;34m)\u001b[0m\u001b[0;34m\u001b[0m\u001b[0;34m\u001b[0m\u001b[0m\n\u001b[0m\u001b[1;32m      4\u001b[0m \u001b[0mprint\u001b[0m \u001b[0;34m(\u001b[0m\u001b[0mt\u001b[0m\u001b[0;34m)\u001b[0m\u001b[0;34m\u001b[0m\u001b[0;34m\u001b[0m\u001b[0m\n",
      "\u001b[0;31mAttributeError\u001b[0m: 'tuple' object has no attribute 'replace'"
     ]
    }
   ],
   "source": [
    "# 문제76 변수 t에는 아래와 같은 값이 저장되어 있다. 변수 t가 ('A', 'b', 'c') 튜플을 가리키도록 수정 하라.\n",
    "t = ('a', 'b', 'c')\n",
    "t.replace('a', 'A')\n",
    "print (t)"
   ]
  },
  {
   "cell_type": "code",
   "execution_count": 10,
   "metadata": {},
   "outputs": [
    {
     "name": "stdout",
     "output_type": "stream",
     "text": [
      "('A', 'b', 'c')\n"
     ]
    }
   ],
   "source": [
    "# 문제76 정답\n",
    "t = ('a', 'b', 'c')\n",
    "# 원소가 변경이 안되기 때문에 변수 t를 다시 설정해준다.\n",
    "t = ('A', 'b', 'c')\n",
    "print (t)"
   ]
  },
  {
   "cell_type": "code",
   "execution_count": 11,
   "metadata": {},
   "outputs": [
    {
     "name": "stdout",
     "output_type": "stream",
     "text": [
      "('삼성전자', 'LG전자', 'SK Hynix')\n"
     ]
    }
   ],
   "source": [
    "# 문제77 다음 튜플을 리스트로 변환하라.\n",
    "interest = ('삼성전자', 'LG전자', 'SK Hynix')\n",
    "list(interest)\n",
    "print (interest)"
   ]
  },
  {
   "cell_type": "code",
   "execution_count": 13,
   "metadata": {},
   "outputs": [
    {
     "name": "stdout",
     "output_type": "stream",
     "text": [
      "['삼성전자', 'LG전자', 'SK Hynix']\n",
      "<class 'list'>\n"
     ]
    }
   ],
   "source": [
    "# 문제77 정답\n",
    "interest = ('삼성전자', 'LG전자', 'SK Hynix')\n",
    "data = list(interest)\n",
    "print (data)\n",
    "print (type(data))"
   ]
  },
  {
   "cell_type": "code",
   "execution_count": 14,
   "metadata": {},
   "outputs": [
    {
     "name": "stdout",
     "output_type": "stream",
     "text": [
      "('삼성전자', 'LG전자', 'SK Hynix')\n",
      "<class 'tuple'>\n"
     ]
    }
   ],
   "source": [
    "# 문제78 다음 리스트를 튜플로 변경하라.\n",
    "interest = ['삼성전자', 'LG전자', 'SK Hynix']\n",
    "data = tuple(interest)\n",
    "print (data)\n",
    "print (type(data))"
   ]
  },
  {
   "cell_type": "code",
   "execution_count": 15,
   "metadata": {},
   "outputs": [
    {
     "name": "stdout",
     "output_type": "stream",
     "text": [
      "apple banana cake\n"
     ]
    }
   ],
   "source": [
    "# 문제79 다음 코드의 실행 결과를 예상하라.\n",
    "temp = ('apple', 'banana', 'cake')\n",
    "a, b, c = temp\n",
    "print(a, b, c)\n",
    "\n",
    "# (apple, banana, cake)으로 출력될 것 같다."
   ]
  },
  {
   "cell_type": "code",
   "execution_count": 18,
   "metadata": {},
   "outputs": [
    {
     "name": "stdout",
     "output_type": "stream",
     "text": [
      "2468101214161820222426283032343638404244464850525456586062646668707274767880828486889092949698<class 'int'>\n"
     ]
    }
   ],
   "source": [
    "# 문제80 1 부터 99까지의 정수 중 짝수만 저장된 튜플을 생성하라.\n",
    "for num in range(2,99,2):\n",
    "    print (num, end=\"\")\n",
    "    \n",
    "print (type(num))"
   ]
  },
  {
   "cell_type": "code",
   "execution_count": 20,
   "metadata": {},
   "outputs": [
    {
     "name": "stdout",
     "output_type": "stream",
     "text": [
      "(2, 4, 6, 8, 10, 12, 14, 16, 18, 20, 22, 24, 26, 28, 30, 32, 34, 36, 38, 40, 42, 44, 46, 48, 50, 52, 54, 56, 58, 60, 62, 64, 66, 68, 70, 72, 74, 76, 78, 80, 82, 84, 86, 88, 90, 92, 94, 96, 98)\n",
      "<class 'tuple'>\n"
     ]
    }
   ],
   "source": [
    "# 문제80 정답\n",
    "data = tuple(range(2, 100, 2))\n",
    "print( data )\n",
    "print (type(data))"
   ]
  },
  {
   "cell_type": "code",
   "execution_count": 2,
   "metadata": {},
   "outputs": [
    {
     "name": "stdout",
     "output_type": "stream",
     "text": [
      "[8.8, 8.9, 8.7, 9.2, 9.3, 9.7, 9.9, 9.5]\n"
     ]
    }
   ],
   "source": [
    "# 문제81 다음과 같이 10개의 값이 저장된 scores 리스트가 있을 때, start expression을 사용하여 좌측 8개의 값을 valid_score 변수에 바인딩하여라.\n",
    "scores = [8.8, 8.9, 8.7, 9.2, 9.3, 9.7, 9.9, 9.5, 7.8, 9.4]\n",
    "*valid_score, _, _= scores\n",
    "print(valid_score)"
   ]
  },
  {
   "cell_type": "code",
   "execution_count": 3,
   "metadata": {},
   "outputs": [
    {
     "name": "stdout",
     "output_type": "stream",
     "text": [
      "[8.7, 9.2, 9.3, 9.7, 9.9, 9.5, 7.8, 9.4]\n"
     ]
    }
   ],
   "source": [
    "# 문제82 다음과 같이 10개의 값이 저장된 scores 리스트가 있을 때, start expression을 사용하여 우측 8개의 값을 valid_score 변수에 바인딩하여라.\n",
    "scores = [8.8, 8.9, 8.7, 9.2, 9.3, 9.7, 9.9, 9.5, 7.8, 9.4]\n",
    "_, _, *valid_score = scores\n",
    "print(valid_score)"
   ]
  },
  {
   "cell_type": "code",
   "execution_count": 4,
   "metadata": {},
   "outputs": [
    {
     "ename": "ValueError",
     "evalue": "too many values to unpack (expected 3)",
     "output_type": "error",
     "traceback": [
      "\u001b[0;31m---------------------------------------------------------------------------\u001b[0m",
      "\u001b[0;31mValueError\u001b[0m                                Traceback (most recent call last)",
      "\u001b[0;32m<ipython-input-4-08d4105e164b>\u001b[0m in \u001b[0;36m<module>\u001b[0;34m\u001b[0m\n\u001b[1;32m      1\u001b[0m \u001b[0;31m# 문제83 다음과 같이 10개의 값이 저장된 scores 리스트가 있을 때, start expression을 사용하여 가운데 있는 8개의 값을 valid_score 변수에 바인딩하여라.\u001b[0m\u001b[0;34m\u001b[0m\u001b[0;34m\u001b[0m\u001b[0;34m\u001b[0m\u001b[0m\n\u001b[1;32m      2\u001b[0m \u001b[0mscores\u001b[0m \u001b[0;34m=\u001b[0m \u001b[0;34m[\u001b[0m\u001b[0;36m8.8\u001b[0m\u001b[0;34m,\u001b[0m \u001b[0;36m8.9\u001b[0m\u001b[0;34m,\u001b[0m \u001b[0;36m8.7\u001b[0m\u001b[0;34m,\u001b[0m \u001b[0;36m9.2\u001b[0m\u001b[0;34m,\u001b[0m \u001b[0;36m9.3\u001b[0m\u001b[0;34m,\u001b[0m \u001b[0;36m9.7\u001b[0m\u001b[0;34m,\u001b[0m \u001b[0;36m9.9\u001b[0m\u001b[0;34m,\u001b[0m \u001b[0;36m9.5\u001b[0m\u001b[0;34m,\u001b[0m \u001b[0;36m7.8\u001b[0m\u001b[0;34m,\u001b[0m \u001b[0;36m9.4\u001b[0m\u001b[0;34m]\u001b[0m\u001b[0;34m\u001b[0m\u001b[0;34m\u001b[0m\u001b[0m\n\u001b[0;32m----> 3\u001b[0;31m \u001b[0m_\u001b[0m\u001b[0;34m,\u001b[0m \u001b[0mvaild_score\u001b[0m\u001b[0;34m,\u001b[0m \u001b[0m_\u001b[0m \u001b[0;34m=\u001b[0m \u001b[0mscores\u001b[0m\u001b[0;34m\u001b[0m\u001b[0;34m\u001b[0m\u001b[0m\n\u001b[0m\u001b[1;32m      4\u001b[0m \u001b[0mprint\u001b[0m \u001b[0;34m(\u001b[0m\u001b[0mvaild_score\u001b[0m\u001b[0;34m)\u001b[0m\u001b[0;34m\u001b[0m\u001b[0;34m\u001b[0m\u001b[0m\n",
      "\u001b[0;31mValueError\u001b[0m: too many values to unpack (expected 3)"
     ]
    }
   ],
   "source": [
    "# 문제83 다음과 같이 10개의 값이 저장된 scores 리스트가 있을 때, start expression을 사용하여 가운데 있는 8개의 값을 valid_score 변수에 바인딩하여라.\n",
    "scores = [8.8, 8.9, 8.7, 9.2, 9.3, 9.7, 9.9, 9.5, 7.8, 9.4]\n",
    "_, vaild_score, _ = scores\n",
    "print (vaild_score)"
   ]
  },
  {
   "cell_type": "code",
   "execution_count": 5,
   "metadata": {},
   "outputs": [
    {
     "name": "stdout",
     "output_type": "stream",
     "text": [
      "[8.9, 8.7, 9.2, 9.3, 9.7, 9.9, 9.5, 7.8]\n"
     ]
    }
   ],
   "source": [
    "# 문제83 정답\n",
    "scores = [8.8, 8.9, 8.7, 9.2, 9.3, 9.7, 9.9, 9.5, 7.8, 9.4]\n",
    "a, *valid_score, b = scores\n",
    "print(valid_score)"
   ]
  },
  {
   "cell_type": "code",
   "execution_count": 7,
   "metadata": {},
   "outputs": [
    {
     "name": "stdout",
     "output_type": "stream",
     "text": [
      "{}\n",
      "<class 'dict'>\n"
     ]
    }
   ],
   "source": [
    "# 문제84 temp 이름의 비어있는 딕셔너리를 만들라.\n",
    "temp = {}\n",
    "print (temp)\n",
    "print (type(temp))"
   ]
  },
  {
   "cell_type": "code",
   "execution_count": 9,
   "metadata": {},
   "outputs": [
    {
     "name": "stdout",
     "output_type": "stream",
     "text": [
      "{'메로나': 1000, '폴라포': 1200, '빵빠레': 1800}\n"
     ]
    }
   ],
   "source": [
    "# 문제85 다음 아이스크림 이름과 희망 가격을 딕셔너리로 구성하라.\n",
    "ice_cream = {'메로나': 1000, '폴라포': 1200, '빵빠레': 1800}\n",
    "print (ice_cream)"
   ]
  },
  {
   "cell_type": "code",
   "execution_count": 10,
   "metadata": {},
   "outputs": [
    {
     "ename": "AttributeError",
     "evalue": "'dict' object has no attribute 'append'",
     "output_type": "error",
     "traceback": [
      "\u001b[0;31m---------------------------------------------------------------------------\u001b[0m",
      "\u001b[0;31mAttributeError\u001b[0m                            Traceback (most recent call last)",
      "\u001b[0;32m<ipython-input-10-5fd02be1b445>\u001b[0m in \u001b[0;36m<module>\u001b[0;34m\u001b[0m\n\u001b[1;32m      1\u001b[0m \u001b[0;31m# 문제86 085 번의 딕셔너리에 아래 아이스크림 가격정보를 추가하라.\u001b[0m\u001b[0;34m\u001b[0m\u001b[0;34m\u001b[0m\u001b[0;34m\u001b[0m\u001b[0m\n\u001b[0;32m----> 2\u001b[0;31m \u001b[0mice_cream\u001b[0m\u001b[0;34m.\u001b[0m\u001b[0mappend\u001b[0m\u001b[0;34m(\u001b[0m\u001b[0;34m{\u001b[0m\u001b[0;34m'죠스바'\u001b[0m\u001b[0;34m:\u001b[0m \u001b[0;36m1200\u001b[0m\u001b[0;34m,\u001b[0m \u001b[0;34m'월드콘'\u001b[0m\u001b[0;34m:\u001b[0m \u001b[0;36m1500\u001b[0m\u001b[0;34m}\u001b[0m\u001b[0;34m)\u001b[0m\u001b[0;34m\u001b[0m\u001b[0;34m\u001b[0m\u001b[0m\n\u001b[0m\u001b[1;32m      3\u001b[0m \u001b[0mprint\u001b[0m \u001b[0;34m(\u001b[0m\u001b[0mice_cream\u001b[0m\u001b[0;34m)\u001b[0m\u001b[0;34m\u001b[0m\u001b[0;34m\u001b[0m\u001b[0m\n",
      "\u001b[0;31mAttributeError\u001b[0m: 'dict' object has no attribute 'append'"
     ]
    }
   ],
   "source": [
    "# 문제86 085 번의 딕셔너리에 아래 아이스크림 가격정보를 추가하라.\n",
    "ice_cream.append({'죠스바': 1200, '월드콘': 1500})\n",
    "print (ice_cream)"
   ]
  },
  {
   "cell_type": "code",
   "execution_count": 11,
   "metadata": {},
   "outputs": [
    {
     "name": "stdout",
     "output_type": "stream",
     "text": [
      "{'메로나': 1000, '폴라포': 1200, '빵빠레': 1800, '죠스바': 1200, '월드콘': 1500}\n"
     ]
    }
   ],
   "source": [
    "# 문제86 정답\n",
    "ice = {\"메로나\": 1000, \"폴라포\": 1200, \"빵빠레\": 1800}\n",
    "ice[\"죠스바\"] = 1200\n",
    "ice[\"월드콘\"] = 1500\n",
    "print(ice)\n",
    "\n",
    "# 왜 이 방법으로 추가를 수행했는지 잘 모르겠습니다."
   ]
  },
  {
   "cell_type": "code",
   "execution_count": 13,
   "metadata": {},
   "outputs": [
    {
     "ename": "KeyError",
     "evalue": "0",
     "output_type": "error",
     "traceback": [
      "\u001b[0;31m---------------------------------------------------------------------------\u001b[0m",
      "\u001b[0;31mKeyError\u001b[0m                                  Traceback (most recent call last)",
      "\u001b[0;32m<ipython-input-13-69f2a4c5acdf>\u001b[0m in \u001b[0;36m<module>\u001b[0;34m\u001b[0m\n\u001b[1;32m      5\u001b[0m        \u001b[0;34m'죠스바'\u001b[0m\u001b[0;34m:\u001b[0m \u001b[0;36m1200\u001b[0m\u001b[0;34m,\u001b[0m\u001b[0;34m\u001b[0m\u001b[0;34m\u001b[0m\u001b[0m\n\u001b[1;32m      6\u001b[0m        '월드콘': 1500}\n\u001b[0;32m----> 7\u001b[0;31m \u001b[0mprint\u001b[0m \u001b[0;34m(\u001b[0m\u001b[0;34m'{} 가격: {}'\u001b[0m\u001b[0;34m.\u001b[0m\u001b[0mformat\u001b[0m\u001b[0;34m(\u001b[0m\u001b[0mice\u001b[0m\u001b[0;34m[\u001b[0m\u001b[0;36m0\u001b[0m\u001b[0;34m]\u001b[0m\u001b[0;34m)\u001b[0m\u001b[0;34m)\u001b[0m\u001b[0;34m\u001b[0m\u001b[0;34m\u001b[0m\u001b[0m\n\u001b[0m",
      "\u001b[0;31mKeyError\u001b[0m: 0"
     ]
    }
   ],
   "source": [
    "# 문제87 다음 딕셔너리를 사용하여 메로나 가격을 출력하라.\n",
    "ice = {'메로나': 1000,\n",
    "       '폴로포': 1200,\n",
    "       '빵빠레': 1800,\n",
    "       '죠스바': 1200,\n",
    "       '월드콘': 1500}\n",
    "print ('{} 가격: {}'.format(ice[0]))"
   ]
  },
  {
   "cell_type": "code",
   "execution_count": 14,
   "metadata": {},
   "outputs": [
    {
     "name": "stdout",
     "output_type": "stream",
     "text": [
      "메로나 가격:  1000\n"
     ]
    }
   ],
   "source": [
    "# 문제87 정답\n",
    "print(\"메로나 가격: \", ice[\"메로나\"])"
   ]
  },
  {
   "cell_type": "code",
   "execution_count": 15,
   "metadata": {},
   "outputs": [
    {
     "name": "stdout",
     "output_type": "stream",
     "text": [
      "{'메로나': 1300, '폴로포': 1200, '빵빠레': 1800, '죠스바': 1200, '월드콘': 1500}\n"
     ]
    }
   ],
   "source": [
    "# 문제88 다음 딕셔너리에서 메로나의 가격을 1300으로 수정하라.\n",
    "ice = {'메로나': 1000,\n",
    "       '폴로포': 1200,\n",
    "       '빵빠레': 1800,\n",
    "       '죠스바': 1200,\n",
    "       '월드콘': 1500}\n",
    "ice['메로나'] = 1300\n",
    "print (ice)"
   ]
  },
  {
   "cell_type": "code",
   "execution_count": 17,
   "metadata": {},
   "outputs": [
    {
     "name": "stdout",
     "output_type": "stream",
     "text": [
      "{'폴로포': 1200, '빵빠레': 1800, '죠스바': 1200, '월드콘': 1500}\n"
     ]
    }
   ],
   "source": [
    "# 문제89 다음 딕셔너리에서 메로나를 삭제하라.\n",
    "ice = {'메로나': 1000,\n",
    "       '폴로포': 1200,\n",
    "       '빵빠레': 1800,\n",
    "       '죠스바': 1200,\n",
    "       '월드콘': 1500}\n",
    "del ice[\"메로나\"]\n",
    "print(ice)"
   ]
  },
  {
   "cell_type": "code",
   "execution_count": 18,
   "metadata": {},
   "outputs": [
    {
     "ename": "SyntaxError",
     "evalue": "invalid syntax (<ipython-input-18-a8b21dc9acb2>, line 2)",
     "output_type": "error",
     "traceback": [
      "\u001b[0;36m  File \u001b[0;32m\"<ipython-input-18-a8b21dc9acb2>\"\u001b[0;36m, line \u001b[0;32m2\u001b[0m\n\u001b[0;31m    >> icecream = {'폴라포': 1200, '빵빠레': 1800, '월드콘': 1500, '메로나': 1000}\u001b[0m\n\u001b[0m     ^\u001b[0m\n\u001b[0;31mSyntaxError\u001b[0m\u001b[0;31m:\u001b[0m invalid syntax\n"
     ]
    }
   ],
   "source": [
    "# 문제90 다음 코드에서 에러가 발생한 원인을 설명하라.\n",
    ">> icecream = {'폴라포': 1200, '빵빠레': 1800, '월드콘': 1500, '메로나': 1000}\n",
    ">> icecream['누가바']\n",
    "Traceback (most recent call last):\n",
    "  File \"<pyshell#69>\", line 1, in <module>\n",
    "    icecream['누가바']\n",
    "KeyError: '누가바'\n",
    "    \n",
    "# 누가바에 value값을 정해주지 않았기 때문\n",
    "# 정답: 딕셔너리에 없는 키를 사용해서 인덱싱하면 에러가 발생합니다."
   ]
  },
  {
   "cell_type": "code",
   "execution_count": 1,
   "metadata": {},
   "outputs": [
    {
     "ename": "SyntaxError",
     "evalue": "invalid syntax (<ipython-input-1-33db043c1368>, line 2)",
     "output_type": "error",
     "traceback": [
      "\u001b[0;36m  File \u001b[0;32m\"<ipython-input-1-33db043c1368>\"\u001b[0;36m, line \u001b[0;32m2\u001b[0m\n\u001b[0;31m    inventory = {'메로나':300:20, '비비빅':400:3, '죠스바':250,100}\u001b[0m\n\u001b[0m                          ^\u001b[0m\n\u001b[0;31mSyntaxError\u001b[0m\u001b[0;31m:\u001b[0m invalid syntax\n"
     ]
    }
   ],
   "source": [
    "# 문제91 아래의 표에서, 아이스크림 이름을 키값으로, (가격, 재고) 리스트를 딕셔너리의 값으로 저장하라. 딕셔너리의 이름은 inventory로 한다.\n",
    "inventory = {'메로나':300:20, '비비빅':400:3, '죠스바':250,100}\n",
    "print (inventory)"
   ]
  },
  {
   "cell_type": "code",
   "execution_count": 2,
   "metadata": {},
   "outputs": [
    {
     "name": "stdout",
     "output_type": "stream",
     "text": [
      "{'메로나': [300, 20], '비비빅': [400, 3], '죠스바': [250, 100]}\n"
     ]
    }
   ],
   "source": [
    "# 문제91 정답\n",
    "inventory = {'메로나':[300,20],\n",
    "             '비비빅':[400,3],\n",
    "             '죠스바':[250,100]}\n",
    "print (inventory)"
   ]
  },
  {
   "cell_type": "code",
   "execution_count": 6,
   "metadata": {},
   "outputs": [
    {
     "name": "stdout",
     "output_type": "stream",
     "text": [
      "300 원\n"
     ]
    }
   ],
   "source": [
    "# 문제92 inventory 딕셔너리에서 메로나의 가격을 화면에 출력하라.\n",
    "inventory = {'메로나':[300,20],\n",
    "             '비비빅':[400,3],\n",
    "             '죠스바':[250,100]}\n",
    "print (inventory['메로나'][0], \"원\")"
   ]
  },
  {
   "cell_type": "code",
   "execution_count": 7,
   "metadata": {},
   "outputs": [
    {
     "name": "stdout",
     "output_type": "stream",
     "text": [
      "20 개\n"
     ]
    }
   ],
   "source": [
    "# 문제93 inventory 딕셔너리에서 메로나의 재고를 화면에 출력하라.\n",
    "inventory = {'메로나':[300,20],\n",
    "             '비비빅':[400,3],\n",
    "             '죠스바':[250,100]}\n",
    "print (inventory['메로나'][1], \"개\")"
   ]
  },
  {
   "cell_type": "code",
   "execution_count": 9,
   "metadata": {},
   "outputs": [
    {
     "ename": "SyntaxError",
     "evalue": "invalid syntax (<ipython-input-9-1a2d93eb21ff>, line 5)",
     "output_type": "error",
     "traceback": [
      "\u001b[0;36m  File \u001b[0;32m\"<ipython-input-9-1a2d93eb21ff>\"\u001b[0;36m, line \u001b[0;32m5\u001b[0m\n\u001b[0;31m    inventory.append('월드콘':[200,7])\u001b[0m\n\u001b[0m                          ^\u001b[0m\n\u001b[0;31mSyntaxError\u001b[0m\u001b[0;31m:\u001b[0m invalid syntax\n"
     ]
    }
   ],
   "source": [
    "# 문제94 inventory 딕셔너리에 아래 데이터를 추가하라.\n",
    "inventory = {'메로나':[300,20],\n",
    "             '비비빅':[400,3],\n",
    "             '죠스바':[250,100]}\n",
    "inventory.append('월드콘':[200,7])\n",
    "print (inventory)"
   ]
  },
  {
   "cell_type": "code",
   "execution_count": 10,
   "metadata": {},
   "outputs": [
    {
     "name": "stdout",
     "output_type": "stream",
     "text": [
      "{'메로나': [300, 20], '비비빅': [400, 3], '죠스바': [250, 100], '월드콘': [500, 7]}\n"
     ]
    }
   ],
   "source": [
    "# 문제94 정답\n",
    "inventory = {\"메로나\": [300, 20], \n",
    "             \"비비빅\": [400, 3], \n",
    "             \"죠스바\": [250, 100]}\n",
    "inventory[\"월드콘\"] = [500, 7]\n",
    "print(inventory)"
   ]
  },
  {
   "cell_type": "code",
   "execution_count": 13,
   "metadata": {},
   "outputs": [
    {
     "name": "stdout",
     "output_type": "stream",
     "text": [
      "['탱크보이', '폴라포', '빵빠레', '월드콘', '메로나']\n"
     ]
    }
   ],
   "source": [
    "# 문제95 다음의 딕셔너리로부터 key 값으로만 구성된 리스트를 생성하라.\n",
    "icecream = {'탱크보이': 1200, '폴라포': 1200, '빵빠레': 1800, '월드콘': 1500, '메로나': 1000}\n",
    "ice = list(icecream.keys())\n",
    "print (ice)"
   ]
  },
  {
   "cell_type": "code",
   "execution_count": 14,
   "metadata": {},
   "outputs": [
    {
     "name": "stdout",
     "output_type": "stream",
     "text": [
      "[1200, 1200, 1800, 1500, 1000]\n"
     ]
    }
   ],
   "source": [
    "# 문제96 다음의 딕셔너리에서 values 값으로만 구성된 리스트를 생성하라.\n",
    "icecream = {'탱크보이': 1200, '폴라포': 1200, '빵빠레': 1800, '월드콘': 1500, '메로나': 1000}\n",
    "ice = list(icecream.values())\n",
    "print (ice)"
   ]
  },
  {
   "cell_type": "code",
   "execution_count": 15,
   "metadata": {},
   "outputs": [
    {
     "name": "stdout",
     "output_type": "stream",
     "text": [
      "6700\n"
     ]
    }
   ],
   "source": [
    "# 문제97 icecream 딕셔너리에서 아이스크림 판매 금액의 총합을 출력하라.\n",
    "icecream = {'탱크보이': 1200, '폴라포': 1200, '빵빠레': 1800, '월드콘': 1500, '메로나': 1000}\n",
    "print (sum(icecream.values()))"
   ]
  },
  {
   "cell_type": "code",
   "execution_count": 16,
   "metadata": {},
   "outputs": [
    {
     "name": "stdout",
     "output_type": "stream",
     "text": [
      "{'탱크보이': 1200, '폴라포': 1200, '빵빠레': 1800, '월드콘': 1500, '메로나': 1000, '팥빙수': 2700, '아맛나': 1000}\n"
     ]
    }
   ],
   "source": [
    "# 문제98 아래의 new_product 딕셔너리를 다음 icecream 딕셔너리에 추가하라.\n",
    "icecream = {'탱크보이': 1200, '폴라포': 1200, '빵빠레': 1800, '월드콘': 1500, '메로나': 1000}\n",
    "new_product = {'팥빙수':2700, '아맛나':1000}\n",
    "icecream.update(new_product)\n",
    "print(icecream)"
   ]
  },
  {
   "cell_type": "code",
   "execution_count": 17,
   "metadata": {},
   "outputs": [
    {
     "ename": "TypeError",
     "evalue": "dict expected at most 1 arguments, got 2",
     "output_type": "error",
     "traceback": [
      "\u001b[0;31m---------------------------------------------------------------------------\u001b[0m",
      "\u001b[0;31mTypeError\u001b[0m                                 Traceback (most recent call last)",
      "\u001b[0;32m<ipython-input-17-66c48f88114a>\u001b[0m in \u001b[0;36m<module>\u001b[0;34m\u001b[0m\n\u001b[1;32m      2\u001b[0m \u001b[0mkeys\u001b[0m \u001b[0;34m=\u001b[0m \u001b[0;34m(\u001b[0m\u001b[0;34m\"apple\"\u001b[0m\u001b[0;34m,\u001b[0m \u001b[0;34m\"pear\"\u001b[0m\u001b[0;34m,\u001b[0m \u001b[0;34m\"peach\"\u001b[0m\u001b[0;34m)\u001b[0m\u001b[0;34m\u001b[0m\u001b[0;34m\u001b[0m\u001b[0m\n\u001b[1;32m      3\u001b[0m \u001b[0mvals\u001b[0m \u001b[0;34m=\u001b[0m \u001b[0;34m(\u001b[0m\u001b[0;36m300\u001b[0m\u001b[0;34m,\u001b[0m \u001b[0;36m250\u001b[0m\u001b[0;34m,\u001b[0m \u001b[0;36m400\u001b[0m\u001b[0;34m)\u001b[0m\u001b[0;34m\u001b[0m\u001b[0;34m\u001b[0m\u001b[0m\n\u001b[0;32m----> 4\u001b[0;31m \u001b[0mprint\u001b[0m \u001b[0;34m(\u001b[0m\u001b[0mzip\u001b[0m\u001b[0;34m(\u001b[0m\u001b[0mdict\u001b[0m\u001b[0;34m(\u001b[0m\u001b[0mkeys\u001b[0m\u001b[0;34m,\u001b[0m\u001b[0mvals\u001b[0m\u001b[0;34m)\u001b[0m\u001b[0;34m)\u001b[0m\u001b[0;34m)\u001b[0m\u001b[0;34m\u001b[0m\u001b[0;34m\u001b[0m\u001b[0m\n\u001b[0m",
      "\u001b[0;31mTypeError\u001b[0m: dict expected at most 1 arguments, got 2"
     ]
    }
   ],
   "source": [
    "# 문제99 아래 두 개의 튜플을 하나의 딕셔너리로 변환하라. keys를 키로, vals를 값으로 result 이름의 딕셔너리로 저장한다.\n",
    "keys = (\"apple\", \"pear\", \"peach\")\n",
    "vals = (300, 250, 400)\n",
    "print (zip(dict(keys,vals)))"
   ]
  },
  {
   "cell_type": "code",
   "execution_count": 18,
   "metadata": {},
   "outputs": [
    {
     "name": "stdout",
     "output_type": "stream",
     "text": [
      "{'apple': 300, 'pear': 250, 'peach': 400}\n"
     ]
    }
   ],
   "source": [
    "# 문제99 정답\n",
    "keys = (\"apple\", \"pear\", \"peach\")\n",
    "vals = (300, 250, 400)\n",
    "result = dict(zip(keys, vals))\n",
    "print(result)"
   ]
  },
  {
   "cell_type": "code",
   "execution_count": 19,
   "metadata": {},
   "outputs": [
    {
     "name": "stdout",
     "output_type": "stream",
     "text": [
      "{'09/05': 10500, '09/06': 10300, '09/07': 10100, '09/08': 10800, '09/09': 11000}\n"
     ]
    }
   ],
   "source": [
    "# 문제100 date와 close_price 두 개의 리스트를 close_table 이름의 딕셔너리로 생성하라.\n",
    "date = ['09/05', '09/06', '09/07', '09/08', '09/09']\n",
    "close_price = [10500, 10300, 10100, 10800, 11000]\n",
    "close_table = dict(zip(date, close_price))\n",
    "print (close_table)"
   ]
  },
  {
   "cell_type": "code",
   "execution_count": null,
   "metadata": {},
   "outputs": [],
   "source": [
    "# 문제101 파이썬에서 True 혹은 False를 갖는 데이터 타입은 무엇인가?\n",
    "# Bool(불리언) 타입"
   ]
  },
  {
   "cell_type": "code",
   "execution_count": 1,
   "metadata": {},
   "outputs": [
    {
     "name": "stdout",
     "output_type": "stream",
     "text": [
      "False\n"
     ]
    }
   ],
   "source": [
    "# 문제102 아래 코드의 출력 결과를 예상하라\n",
    "print(3 == 5)\n",
    "# false가 나온다"
   ]
  },
  {
   "cell_type": "code",
   "execution_count": 2,
   "metadata": {},
   "outputs": [
    {
     "name": "stdout",
     "output_type": "stream",
     "text": [
      "True\n"
     ]
    }
   ],
   "source": [
    "# 문제103 아래 코드의 출력 결과를 예상하라\n",
    "print(3 < 5)\n",
    "# true가 나온다"
   ]
  },
  {
   "cell_type": "code",
   "execution_count": null,
   "metadata": {},
   "outputs": [],
   "source": [
    "# 문제104 아래 코드의 출력 결과를 예상하라\n",
    "x = 4\n",
    "print(1 < x < 5)\n",
    "# true가 나온다"
   ]
  },
  {
   "cell_type": "code",
   "execution_count": 3,
   "metadata": {},
   "outputs": [
    {
     "name": "stdout",
     "output_type": "stream",
     "text": [
      "True\n"
     ]
    }
   ],
   "source": [
    "# 문제105 아래 코드의 출력 결과를 예상하라\n",
    "print ((3 == 3) and (4 != 3))\n",
    "# true가 나온다"
   ]
  },
  {
   "cell_type": "code",
   "execution_count": 4,
   "metadata": {},
   "outputs": [
    {
     "ename": "SyntaxError",
     "evalue": "invalid syntax (<ipython-input-4-55d905937f73>, line 2)",
     "output_type": "error",
     "traceback": [
      "\u001b[0;36m  File \u001b[0;32m\"<ipython-input-4-55d905937f73>\"\u001b[0;36m, line \u001b[0;32m2\u001b[0m\n\u001b[0;31m    print(3 => 4)\u001b[0m\n\u001b[0m             ^\u001b[0m\n\u001b[0;31mSyntaxError\u001b[0m\u001b[0;31m:\u001b[0m invalid syntax\n"
     ]
    }
   ],
   "source": [
    "# 문제106 아래 코드에서 에러가 발생하는 원인에 대해 설명하라.\n",
    "print(3 => 4)\n",
    "# 지원하지 않는 연산자이다"
   ]
  },
  {
   "cell_type": "code",
   "execution_count": 6,
   "metadata": {},
   "outputs": [],
   "source": [
    "# 문제107 아래 코드의 출력 결과를 예상하라\n",
    "if 4 < 3:\n",
    "    print(\"Hello World\")\n",
    "# 아무것도 출력되지 않는다"
   ]
  },
  {
   "cell_type": "code",
   "execution_count": 7,
   "metadata": {},
   "outputs": [
    {
     "name": "stdout",
     "output_type": "stream",
     "text": [
      "Hi, there.\n"
     ]
    }
   ],
   "source": [
    "# 문제108 아래 코드의 출력 결과를 예상하라\n",
    "if 4 < 3:\n",
    "    print(\"Hello World.\")\n",
    "else:\n",
    "    print(\"Hi, there.\")\n",
    "# 조건을 만족하지 않아서 else의 출력문이 출력된다."
   ]
  },
  {
   "cell_type": "code",
   "execution_count": 9,
   "metadata": {},
   "outputs": [
    {
     "name": "stdout",
     "output_type": "stream",
     "text": [
      "1\n",
      "2\n",
      "4\n"
     ]
    }
   ],
   "source": [
    "# 문제109 아래 코드의 출력 결과를 예상하라\n",
    "if True :\n",
    "    print (\"1\")\n",
    "    print (\"2\")\n",
    "else :\n",
    "    print(\"3\")\n",
    "print(\"4\")\n",
    "\n",
    "# 1,2,4가 출력된다."
   ]
  },
  {
   "cell_type": "code",
   "execution_count": 8,
   "metadata": {},
   "outputs": [
    {
     "name": "stdout",
     "output_type": "stream",
     "text": [
      "3\n",
      "5\n"
     ]
    }
   ],
   "source": [
    "# 문제110 아래 코드의 출력 결과를 예상하라\n",
    "if True :\n",
    "    if False:\n",
    "        print(\"1\")\n",
    "        print(\"2\")\n",
    "    else:\n",
    "        print(\"3\")\n",
    "else :\n",
    "    print(\"4\")\n",
    "print(\"5\")"
   ]
  },
  {
   "cell_type": "code",
   "execution_count": 12,
   "metadata": {},
   "outputs": [
    {
     "name": "stdout",
     "output_type": "stream",
     "text": [
      "입력:안녕하세요\n",
      "안녕하세요안녕하세요\n"
     ]
    }
   ],
   "source": [
    "# 문제111 사용자로부터 입력받은 문자열을 두 번 출력하라. 아래는 사용자가 \"안녕하세요\"를 입력한 경우의 출력 결과이다.\n",
    "user = input(\"입력:\")\n",
    "print(user * 2)"
   ]
  },
  {
   "cell_type": "code",
   "execution_count": 13,
   "metadata": {},
   "outputs": [
    {
     "name": "stdout",
     "output_type": "stream",
     "text": [
      "숫자:30\n",
      "40\n"
     ]
    }
   ],
   "source": [
    "# 문제112 사용자로부터 하나의 숫자를 입력받고, 입력 받은 숫자에 10을 더해 출력하라.\n",
    "user = input(\"숫자:\")\n",
    "print(10+int(user))"
   ]
  },
  {
   "cell_type": "code",
   "execution_count": 14,
   "metadata": {},
   "outputs": [
    {
     "name": "stdout",
     "output_type": "stream",
     "text": [
      "6\n",
      "짝수\n"
     ]
    }
   ],
   "source": [
    "# 문제113 사용자로부터 하나의 숫자를 입력 받고 짝수/홀수를 판별하라.\n",
    "user = input(\"\")\n",
    "if int(user) % 2 == 0:\n",
    "    print(\"짝수\")\n",
    "else:\n",
    "    print(\"홀수\")"
   ]
  },
  {
   "cell_type": "code",
   "execution_count": 15,
   "metadata": {},
   "outputs": [
    {
     "name": "stdout",
     "output_type": "stream",
     "text": [
      "입력값: 240\n",
      "255\n"
     ]
    }
   ],
   "source": [
    "# 문제114 사용자로부터 값을 입력받은 후 해당 값에 20을 더한 값을 출력하라. \n",
    "# 단 사용자가 입력한 값과 20을 더한 계산 값이 255를 초과하는 경우 255를 출력해야 한다.\n",
    "user = input(\"입력값: \")\n",
    "num = 20 + int(user)\n",
    "if num > 255:\n",
    "    print(255)\n",
    "else:\n",
    "    print(num)"
   ]
  },
  {
   "cell_type": "code",
   "execution_count": 18,
   "metadata": {},
   "outputs": [
    {
     "name": "stdout",
     "output_type": "stream",
     "text": [
      "입력값: 25\n",
      "5\n"
     ]
    }
   ],
   "source": [
    "# 문제115 사용자로부터 하나의 값을 입력받은 후 해당 값에 20을 뺀 값을 출력하라. \n",
    "# 단 출력 값의 범위는 0~255이다. 예를 들어 결괏값이 0보다 작은 값이되는 경우 0을 출력하고 255보다 큰 값이 되는 경우 255를 출력해야 한다.\n",
    "user = input(\"입력값: \")\n",
    "num = int(user) - 20\n",
    "if num < 0:\n",
    "    print(0)\n",
    "elif num > 255:\n",
    "    print(255)\n",
    "else:\n",
    "    print(num)"
   ]
  },
  {
   "cell_type": "code",
   "execution_count": 20,
   "metadata": {},
   "outputs": [
    {
     "name": "stdout",
     "output_type": "stream",
     "text": [
      "현재시간: 1100\n",
      "정각 입니다.\n"
     ]
    }
   ],
   "source": [
    "# 문제116 사용자로부터 입력 받은 시간이 정각인지 판별하라.\n",
    "time = input(\"현재시간: \")\n",
    "if time[-2:] == \"00\":\n",
    "    print(\"정각 입니다.\")\n",
    "else:\n",
    "    print(\"정각이 아닙니다.\")"
   ]
  },
  {
   "cell_type": "code",
   "execution_count": 22,
   "metadata": {},
   "outputs": [
    {
     "name": "stdout",
     "output_type": "stream",
     "text": [
      "좋아하는 과일은?홍시\n",
      "정답입니다.\n"
     ]
    }
   ],
   "source": [
    "# 문제117 사용자로 입력받은 단어가 아래 fruit 리스트에 포함되어 있는지를 확인하라. 포함되었다면 \"정답입니다\"를 아닐 경우 \"오답입니다\" 출력하라.\n",
    "fruit = [\"사과\", \"포도\", \"홍시\"]\n",
    "user = input(\"좋아하는 과일은?\")\n",
    "if user in fruit:\n",
    "    print(\"정답입니다.\")\n",
    "else:\n",
    "    print(\"오답입니다.\")"
   ]
  },
  {
   "cell_type": "code",
   "execution_count": 23,
   "metadata": {},
   "outputs": [
    {
     "name": "stdout",
     "output_type": "stream",
     "text": [
      "종목먕: Google\n",
      "투자 경고 종목입니다.\n"
     ]
    }
   ],
   "source": [
    "# 문제118 투자 경고 종목 리스트가 있을 때 사용자로부터 종목명을 입력 받은 후 \n",
    "# 해당 종목이 투자 경고 종목이라면 '투자 경고 종목입니다'를 아니면 \"투자 경고 종목이 아닙니다.\"를 출력하는 프로그램을 작성하라.\n",
    "warn_investment_list = [\"Microsoft\", \"Google\", \"Naver\", \"Kakao\", \"SAMSUNG\", \"LG\"]\n",
    "종목 = input(\"종목먕: \")\n",
    "if 종목 in warn_investment_list:\n",
    "    print(\"투자 경고 종목입니다.\")\n",
    "else:\n",
    "    print(\"투자 경고 종목이 아닙니다.\")"
   ]
  },
  {
   "cell_type": "code",
   "execution_count": 25,
   "metadata": {},
   "outputs": [
    {
     "name": "stdout",
     "output_type": "stream",
     "text": [
      "제가좋아하는계절은: 딸기\n",
      "오답입니다.\n"
     ]
    }
   ],
   "source": [
    "# 문제119 아래와 같이 fruit 딕셔너리가 정의되어 있다. \n",
    "# 사용자가 입력한 값이 딕셔너리 키 (key) 값에 포함되었다면 \"정답입니다\"를 아닐 경우 \"오답입니다\" 출력하라.\n",
    "fruit = {\"봄\" : \"딸기\", \"여름\" : \"토마토\", \"가을\" : \"사과\"}\n",
    "user = input(\"제가좋아하는계절은: \")\n",
    "if user in fruit:\n",
    "    print(\"정답입니다.\")\n",
    "else:\n",
    "    print(\"오답입니다.\")"
   ]
  },
  {
   "cell_type": "code",
   "execution_count": 27,
   "metadata": {},
   "outputs": [
    {
     "name": "stdout",
     "output_type": "stream",
     "text": [
      "좋아하는 과일은?가을\n",
      "오답입니다.\n"
     ]
    }
   ],
   "source": [
    "# 문제120 아래와 같이 fruit 딕셔너리가 정의되어 있다. \n",
    "# 사용자가 입력한 값이 딕셔너리 값 (value)에 포함되었다면 \"정답입니다\"를 아닐 경우 \"오답입니다\" 출력하라.\n",
    "fruit = {\"봄\" : \"딸기\", \"여름\" : \"토마토\", \"가을\" : \"사과\"}\n",
    "user = input(\"좋아하는 과일은?\")\n",
    "if user in fruit.values():\n",
    "    print(\"정답입니다.\")\n",
    "else:\n",
    "    print(\"오답입니다.\")"
   ]
  },
  {
   "cell_type": "code",
   "execution_count": null,
   "metadata": {},
   "outputs": [],
   "source": []
  }
 ],
 "metadata": {
  "kernelspec": {
   "display_name": "Python 3",
   "language": "python",
   "name": "python3"
  },
  "language_info": {
   "codemirror_mode": {
    "name": "ipython",
    "version": 3
   },
   "file_extension": ".py",
   "mimetype": "text/x-python",
   "name": "python",
   "nbconvert_exporter": "python",
   "pygments_lexer": "ipython3",
   "version": "3.7.9"
  }
 },
 "nbformat": 4,
 "nbformat_minor": 4
}
