{
 "cells": [
  {
   "cell_type": "markdown",
   "metadata": {},
   "source": [
    "# Python 연습문제"
   ]
  },
  {
   "cell_type": "code",
   "execution_count": 4,
   "metadata": {},
   "outputs": [
    {
     "name": "stdout",
     "output_type": "stream",
     "text": [
      "B\n",
      "b\n"
     ]
    }
   ],
   "source": [
    "# 문제121 사용자로부터 문자 한 개를 입력 받고, 소문자일 경우 대문자로, 대문자 일 경우, 소문자로 변경해서 출력하라.\n",
    "user = input(\"\")\n",
    "if user.islower():\n",
    "    print (user.upper())\n",
    "else:\n",
    "    print (user.lower())"
   ]
  },
  {
   "cell_type": "code",
   "execution_count": 6,
   "metadata": {},
   "outputs": [
    {
     "name": "stdout",
     "output_type": "stream",
     "text": [
      "score: 65\n",
      "grade is B\n"
     ]
    }
   ],
   "source": [
    "# 문제122 점수 구간에 해당하는 학점이 아래와 같이 정의되어 있다. 사용자로부터 score를 입력받아 학점을 출력하라.\n",
    "\n",
    "#점수\t학점\n",
    "#81~100\tA\n",
    "#61~80\tB\n",
    "#41~60\tC\n",
    "#21~40\tD\n",
    "#0~20\tE\n",
    "\n",
    "score = input(\"score: \")\n",
    "score = int(score)\n",
    "if 81 <= score <= 100:\n",
    "    print(\"grade is A\")\n",
    "elif 61 <= score <= 80:\n",
    "    print(\"grade is B\")\n",
    "elif 41 <= score <= 60:\n",
    "    print(\"grade is C\")\n",
    "elif 21 <= score <= 40:\n",
    "    print(\"grade is D\")\n",
    "else:\n",
    "    print(\"grade is E\")"
   ]
  },
  {
   "cell_type": "code",
   "execution_count": 11,
   "metadata": {},
   "outputs": [
    {
     "name": "stdout",
     "output_type": "stream",
     "text": [
      "입력: 100 달러\n",
      "116700.0 원\n"
     ]
    }
   ],
   "source": [
    "# 문제123 사용자로부터 달러, 엔, 유로, 또는 위안 금액을 입력받은 후 이를 원으로 변환하는 프로그램을 작성하라. \n",
    "# 각 통화별 환율은 다음과 같다. \n",
    "# 사용자는 100 달러, 1000 엔, 13 유로, 100 위안과 같이 금액과 통화명 사이에 공백을 넣어 입력한다고 가정한다.\n",
    "환율 = {\"달러\": 1167, \n",
    "        \"엔\": 1.096, \n",
    "        \"유로\": 1268, \n",
    "        \"위안\": 171}\n",
    "user = input(\"입력: \")\n",
    "num, currency = user.split()\n",
    "print(float(num) * 환율[currency], \"원\")"
   ]
  },
  {
   "cell_type": "code",
   "execution_count": 12,
   "metadata": {},
   "outputs": [
    {
     "name": "stdout",
     "output_type": "stream",
     "text": [
      "input number1: 12\n",
      "input number2: 32\n",
      "input number3: 54\n",
      "54\n"
     ]
    }
   ],
   "source": [
    "# 문제124 사용자로부터 세 개의 숫자를 입력 받은 후 가장 큰 숫자를 출력하라.\n",
    "num1 = input(\"input number1: \")\n",
    "num2 = input(\"input number2: \")\n",
    "num3 = input(\"input number3: \")\n",
    "num1 = int(num1)\n",
    "num2 = int(num2)\n",
    "num3 = int(num3)\n",
    "\n",
    "if num1 > num2 and num1 > num3:\n",
    "    print(num1)\n",
    "elif num2 > num1 and num2 > num3:\n",
    "    print(num2)\n",
    "else:\n",
    "    print(num3)"
   ]
  },
  {
   "cell_type": "code",
   "execution_count": 16,
   "metadata": {},
   "outputs": [
    {
     "name": "stdout",
     "output_type": "stream",
     "text": [
      "휴대전화 번호 입력: 01135795223\n",
      "당신은 알수없음 사용자입니다.\n"
     ]
    }
   ],
   "source": [
    "# 문제125 휴대폰 번호 앞자리에 따라 통신사는 아래와 같이 구분된다. 사용자로부터 휴대전화 번호를 입력 받고, 통신사를 출력하는 프로그램을 작성하라.\n",
    "\n",
    "# 번호\t통신사\n",
    "# 011\tSKT\n",
    "# 016\tKT\n",
    "# 019\tLGU\n",
    "# 010\t알수없음\n",
    "number = input(\"휴대전화 번호 입력: \")\n",
    "num = number.split(\"-\")[0]\n",
    "if num == \"011\":\n",
    "    com = \"SKT\"\n",
    "elif num == \"016\":\n",
    "    com = \"KT\"\n",
    "elif num == \"019\":\n",
    "    com = \"LGU\"\n",
    "else:\n",
    "    com = \"알수없음\"\n",
    "print(f\"당신은 {com} 사용자입니다.\")"
   ]
  },
  {
   "cell_type": "code",
   "execution_count": 17,
   "metadata": {},
   "outputs": [
    {
     "name": "stdout",
     "output_type": "stream",
     "text": [
      "우편번호: 010\n",
      "강북구\n"
     ]
    }
   ],
   "source": [
    "# 문제126 우편번호는 5자리로 구성되는데, 앞의 세자리는 구를 나타낸다. 예를들어, 강북구의 경우 010, 011, 012 세 자리로 시작한다.\n",
    "우편번호 = input(\"우편번호: \")\n",
    "우편번호 = 우편번호[:3]\n",
    "if 우편번호 in [\"010\", \"011\", \"012\"]:\n",
    "    print(\"강북구\")\n",
    "elif 우편번호 in [\"014\", \"015\", \"016\"]:\n",
    "    print(\"도봉구\")\n",
    "else:\n",
    "    print(\"노원구\")"
   ]
  },
  {
   "cell_type": "code",
   "execution_count": 22,
   "metadata": {},
   "outputs": [
    {
     "name": "stdout",
     "output_type": "stream",
     "text": [
      "주민등록번호: 920811-1842619\n",
      "남자\n"
     ]
    }
   ],
   "source": [
    "# 문제127 주민등록번호 뒷 자리 7자리 중 첫째 자리는 성별을 나타내는데, 1, 3은 남자 2, 4는 여자를 의미한다. \n",
    "# 사용자로부터 13자리의 주민등록번호를 입력 받은 후 성별 (남자, 여자)를 출력하는 프로그램을 작성하라.\n",
    "주민번호 = input(\"주민등록번호: \")\n",
    "주민번호 = 주민번호.split(\"-\")[1]\n",
    "if 주민번호[0] == \"1\" or 주민번호[0] == \"3\":\n",
    "    print(\"남자\")\n",
    "else:\n",
    "    print(\"여자\")"
   ]
  },
  {
   "cell_type": "code",
   "execution_count": 23,
   "metadata": {},
   "outputs": [
    {
     "name": "stdout",
     "output_type": "stream",
     "text": [
      "주민등록번호: 920811-1842619\n",
      "서울이 아닙니다.\n"
     ]
    }
   ],
   "source": [
    "# 문제128 주민등록번호의 뒷 자리 7자리 중 두번째와 세번째는 지역코드를 의미한다. \n",
    "# 주민 등록 번호를 입력 받은 후 출생지가 서울인지 아닌지 판단하는 코드를 작성하라\n",
    "주민번호 = input(\"주민등록번호: \")\n",
    "뒷자리 = 주민번호.split(\"-\")[1]\n",
    "if 0 <= int(뒷자리[1:3]) <= 8:\n",
    "    print(\"서울입니다.\")\n",
    "else:\n",
    "    print(\"서울이 아닙니다.\")"
   ]
  },
  {
   "cell_type": "code",
   "execution_count": 24,
   "metadata": {},
   "outputs": [
    {
     "name": "stdout",
     "output_type": "stream",
     "text": [
      "주민등록번호: 920811-1842619\n",
      "유효한 주민등록번호입니다.\n"
     ]
    }
   ],
   "source": [
    "# 문제129 다음과 같이 사용자로부터 주민등록번호를 입력받은 후 주민등록번호가 유효한지를 출력하는 프로그램을 작성하라.\n",
    "num = input(\"주민등록번호: \")\n",
    "계산1 = int(num[0]) * 2 + int(num[1]) * 3 + int(num[2]) * 4 + int(num[3]) * 5 + int(num[4]) * 6 + \\\n",
    "        int(num[5]) * 7 + int(num[7]) * 8 + int(num[8]) * 9 + int(num[9]) * 2 + int(num[10])* 3 + \\\n",
    "        int(num[11])* 4 + int(num[12]) * 5\n",
    "계산2 = 11 - (계산1 % 11)\n",
    "계산3 = str(계산2)\n",
    "\n",
    "if num[-1] == 계산3[-1]:\n",
    "    print(\"유효한 주민등록번호입니다.\")\n",
    "else:\n",
    "    print(\"유효하지 않은 주민등록번호입니다.\")"
   ]
  },
  {
   "cell_type": "code",
   "execution_count": 25,
   "metadata": {},
   "outputs": [
    {
     "name": "stdout",
     "output_type": "stream",
     "text": [
      "상승장\n"
     ]
    }
   ],
   "source": [
    "# 문제130 아래 코드는 비트코인의 가격 정보를 딕셔너리로 가져오는 코드이다.\n",
    "# btc 딕셔너리 안에는 시가, 종가, 최고가, 최저가 등이 저장되어 있다. \n",
    "# 최고가와 최저가의 차이를 변동폭으로 정의할 때 (시가 + 변동폭)이 최고가 보다 높을 경우 \"상승장\", 그렇지 않은 경우 \"하락장\" 문자열을 출력하라.\n",
    "import requests\n",
    "btc = requests.get(\"https://api.bithumb.com/public/ticker/\").json()['data']\n",
    "\n",
    "변동폭 = float(btc['max_price']) - float(btc['min_price'])\n",
    "시가 = float(btc['opening_price'])\n",
    "최고가 = float(btc['max_price'])\n",
    "\n",
    "if (시가+변동폭) > 최고가:\n",
    "    print(\"상승장\")\n",
    "else:\n",
    "    print(\"하락장\")"
   ]
  },
  {
   "cell_type": "code",
   "execution_count": 1,
   "metadata": {},
   "outputs": [
    {
     "name": "stdout",
     "output_type": "stream",
     "text": [
      "사과\n",
      "귤\n",
      "수박\n"
     ]
    }
   ],
   "source": [
    "# 문제131 for문의 실행결과를 예측하라.\n",
    "과일 = [\"사과\", \"귤\", \"수박\"]\n",
    "for 변수 in 과일:\n",
    "    print(변수)\n",
    "# 과일변수의 원소들이 한 줄에 하나씩 출력된다."
   ]
  },
  {
   "cell_type": "code",
   "execution_count": 3,
   "metadata": {},
   "outputs": [
    {
     "name": "stdout",
     "output_type": "stream",
     "text": [
      "#####\n",
      "#####\n",
      "#####\n"
     ]
    }
   ],
   "source": [
    "# 문제132 for문의 실행결과를 예측하라.\n",
    "과일 = [\"사과\", \"귤\", \"수박\"]\n",
    "for 변수 in 과일:\n",
    "  print(\"#####\")\n",
    "# #이 5개씩 3줄로 출력된다."
   ]
  },
  {
   "cell_type": "code",
   "execution_count": 5,
   "metadata": {},
   "outputs": [
    {
     "name": "stdout",
     "output_type": "stream",
     "text": [
      "A\n",
      "B\n",
      "C\n",
      "A\n",
      "B\n",
      "C\n"
     ]
    }
   ],
   "source": [
    "# 문제133 다음 for 문과 동일한 기능을 수행하는 코드를 작성하세요.\n",
    "for 변수 in [\"A\", \"B\", \"C\"]:\n",
    "  print(변수)\n",
    "\n",
    "alpha = [\"A\", \"B\", \"C\"]\n",
    "for i in alpha:\n",
    "    print(i)"
   ]
  },
  {
   "cell_type": "code",
   "execution_count": 8,
   "metadata": {},
   "outputs": [
    {
     "name": "stdout",
     "output_type": "stream",
     "text": [
      "출력: A\n",
      "출력: B\n",
      "출력: C\n",
      "출력: A\n",
      "출력: B\n",
      "출력: C\n"
     ]
    }
   ],
   "source": [
    "# 문제134 for문을 풀어서 동일한 동작을하는 코드를 작성하라.\n",
    "for 변수 in [\"A\", \"B\", \"C\"]:\n",
    "  print(\"출력:\", 변수)\n",
    "\n",
    "print (\"출력:\", \"A\")\n",
    "print (\"출력:\", \"B\")\n",
    "print (\"출력:\", \"C\")"
   ]
  },
  {
   "cell_type": "code",
   "execution_count": 12,
   "metadata": {},
   "outputs": [
    {
     "name": "stdout",
     "output_type": "stream",
     "text": [
      "변환: a\n",
      "변환: b\n",
      "변환: c\n",
      "변환: a\n",
      "변환: b\n",
      "변환: c\n"
     ]
    }
   ],
   "source": [
    "# 문제135 for문을 풀어서 동일한 동작을 하는 코드를 작성하라.\n",
    "for 변수 in [\"A\", \"B\", \"C\"]:\n",
    "  b = 변수.lower()\n",
    "  print(\"변환:\", b)\n",
    "    \n",
    "변수 = \"A\"\n",
    "print (\"변환:\", 변수.lower())\n",
    "변수 = \"B\"\n",
    "print (\"변환:\", 변수.lower())\n",
    "변수 = \"C\"\n",
    "print (\"변환:\", 변수.lower())"
   ]
  },
  {
   "cell_type": "code",
   "execution_count": 13,
   "metadata": {},
   "outputs": [
    {
     "name": "stdout",
     "output_type": "stream",
     "text": [
      "10\n",
      "20\n",
      "30\n",
      "10\n",
      "20\n",
      "30\n"
     ]
    }
   ],
   "source": [
    "# 문제136 다음 코드를 for문으로 작성하라.\n",
    "변수 = 10\n",
    "print(변수)\n",
    "변수 = 20\n",
    "print(변수)\n",
    "변수 = 30\n",
    "print(변수)\n",
    "\n",
    "변수 = [10, 20, 30]\n",
    "for i in 변수:\n",
    "    print(i)"
   ]
  },
  {
   "cell_type": "code",
   "execution_count": 15,
   "metadata": {},
   "outputs": [
    {
     "name": "stdout",
     "output_type": "stream",
     "text": [
      "10\n",
      "20\n",
      "30\n",
      "10\n",
      "20\n",
      "30\n"
     ]
    }
   ],
   "source": [
    "# 문제137 다음 코드를 for문으로 작성하라.\n",
    "print(10)\n",
    "print(20)\n",
    "print(30)\n",
    "\n",
    "for i in [10,20,30]:\n",
    "    print(i)"
   ]
  },
  {
   "cell_type": "code",
   "execution_count": 20,
   "metadata": {},
   "outputs": [
    {
     "ename": "SyntaxError",
     "evalue": "unexpected character after line continuation character (<ipython-input-20-c5adc6a65f67>, line 11)",
     "output_type": "error",
     "traceback": [
      "\u001b[0;36m  File \u001b[0;32m\"<ipython-input-20-c5adc6a65f67>\"\u001b[0;36m, line \u001b[0;32m11\u001b[0m\n\u001b[0;31m    print (i, \\n\"-------\")\u001b[0m\n\u001b[0m                          ^\u001b[0m\n\u001b[0;31mSyntaxError\u001b[0m\u001b[0;31m:\u001b[0m unexpected character after line continuation character\n"
     ]
    }
   ],
   "source": [
    "# 문제138 다음 코드를 for문으로 작성하라.\n",
    "print(10)\n",
    "print(\"-------\")\n",
    "print(20)\n",
    "print(\"-------\")\n",
    "print(30)\n",
    "print(\"-------\")\n",
    "\n",
    "변수 = [10,20,30]\n",
    "for i in 변수:\n",
    "    print (i, \\n\"-------\")"
   ]
  },
  {
   "cell_type": "code",
   "execution_count": 21,
   "metadata": {},
   "outputs": [
    {
     "name": "stdout",
     "output_type": "stream",
     "text": [
      "10\n",
      "------\n",
      "20\n",
      "------\n",
      "30\n",
      "------\n"
     ]
    }
   ],
   "source": [
    "# 문제138 정답\n",
    "변수 = [10,20,30]\n",
    "for i in 변수:\n",
    "    print (i)\n",
    "    print (\"------\")"
   ]
  },
  {
   "cell_type": "code",
   "execution_count": 23,
   "metadata": {},
   "outputs": [
    {
     "name": "stdout",
     "output_type": "stream",
     "text": [
      "++++\n",
      "10\n",
      "20\n",
      "30\n",
      "++++\n",
      "10\n",
      "20\n",
      "30\n"
     ]
    }
   ],
   "source": [
    "# 문제139 다음 코드를 for문으로 작성하라.\n",
    "print(\"++++\")\n",
    "print(10)\n",
    "print(20)\n",
    "print(30)\n",
    "\n",
    "변수 = [10,20,30]\n",
    "print (\"++++\")\n",
    "for i in 변수:\n",
    "    print (i)"
   ]
  },
  {
   "cell_type": "code",
   "execution_count": 26,
   "metadata": {},
   "outputs": [
    {
     "name": "stdout",
     "output_type": "stream",
     "text": [
      "-------\n",
      "-------\n",
      "-------\n",
      "-------\n",
      "-------\n",
      "-------\n",
      "-------\n",
      "-------\n"
     ]
    }
   ],
   "source": [
    "# 문제140 다음 코드를 for문으로 작성하라.\n",
    "print(\"-------\")\n",
    "print(\"-------\")\n",
    "print(\"-------\")\n",
    "print(\"-------\")\n",
    "\n",
    "변수 = [\"-------\", \"-------\",\"-------\",\"-------\"]\n",
    "for i in 변수:\n",
    "    print(i)"
   ]
  },
  {
   "cell_type": "code",
   "execution_count": 29,
   "metadata": {},
   "outputs": [
    {
     "name": "stdout",
     "output_type": "stream",
     "text": [
      "-------\n",
      "-------\n",
      "-------\n",
      "-------\n"
     ]
    }
   ],
   "source": [
    "# 문제140 정답\n",
    "li_st = ['A', 'B', 'C', 'D']\n",
    "for i in li_st:\n",
    "    print (\"-------\")"
   ]
  },
  {
   "cell_type": "code",
   "execution_count": 3,
   "metadata": {},
   "outputs": [
    {
     "name": "stdout",
     "output_type": "stream",
     "text": [
      "110\n",
      "210\n",
      "310\n"
     ]
    }
   ],
   "source": [
    "# 문제 141 다음과 같이 판매가가 저장된 리스트가 있을 때 부가세가 포함된 가격을 for 문을 사용해서 화면에 출력하라. 단 부가세는 10원으로 가정한다.\n",
    "리스트 = [100, 200, 300]\n",
    "for i in 리스트:\n",
    "    print(i+10)"
   ]
  },
  {
   "cell_type": "code",
   "execution_count": 4,
   "metadata": {},
   "outputs": [
    {
     "name": "stdout",
     "output_type": "stream",
     "text": [
      "오늘의 메뉴:  김밥\n",
      "오늘의 메뉴:  라면\n",
      "오늘의 메뉴:  튀김\n"
     ]
    }
   ],
   "source": [
    "# 문제 142 for 문을 사용해서 리스트에 저장된 값을 다음과 같이 출력하라.\n",
    "리스트 = [\"김밥\", \"라면\", \"튀김\"]\n",
    "for i in 리스트:\n",
    "    print(\"오늘의 메뉴: \", i)"
   ]
  },
  {
   "cell_type": "code",
   "execution_count": 5,
   "metadata": {},
   "outputs": [
    {
     "name": "stdout",
     "output_type": "stream",
     "text": [
      "6\n",
      "4\n",
      "4\n"
     ]
    }
   ],
   "source": [
    "# 문제 143 리스트에 주식 종목이름이 저장돼 있다.\n",
    "# 저장된 문자열의 길이를 다음과 같이 출력하라.\n",
    "리스트 = [\"SK하이닉스\", \"삼성전자\", \"LG전자\"]\n",
    "for i in 리스트:\n",
    "    print(len(i))"
   ]
  },
  {
   "cell_type": "code",
   "execution_count": 6,
   "metadata": {},
   "outputs": [
    {
     "name": "stdout",
     "output_type": "stream",
     "text": [
      "dog 3\n",
      "cat 3\n",
      "parrot 6\n"
     ]
    }
   ],
   "source": [
    "# 문제 144 리스트에는 동물이름이 문자열로 저장돼 있다.\n",
    "# 동물 이름과 글자수를 다음과 같이 출력하라.\n",
    "리스트 = ['dog', 'cat', 'parrot']\n",
    "for i in 리스트:\n",
    "    print(i, len(i))"
   ]
  },
  {
   "cell_type": "code",
   "execution_count": 7,
   "metadata": {},
   "outputs": [
    {
     "name": "stdout",
     "output_type": "stream",
     "text": [
      "d\n",
      "c\n",
      "p\n"
     ]
    }
   ],
   "source": [
    "# 문제 145 리스트에 동물 이름 저장돼 있다.\n",
    "# for문을 사용해서 동물 이름의 첫 글자만 출력하라.\n",
    "리스트 = ['dog', 'cat', 'parrot']\n",
    "for i in 리스트:\n",
    "    print(i[0])"
   ]
  },
  {
   "cell_type": "code",
   "execution_count": 9,
   "metadata": {},
   "outputs": [
    {
     "name": "stdout",
     "output_type": "stream",
     "text": [
      "3 X 1\n",
      "3 X 2\n",
      "3 X 3\n"
     ]
    }
   ],
   "source": [
    "# 문제 146 리스트에는 세 개의 숫자가 바인딩돼 있다.\n",
    "# for문을 사용해서 다음과 같이 출력하라.\n",
    "리스트 = [1, 2, 3]\n",
    "for i in 리스트:\n",
    "    print(\"3 X\", i)"
   ]
  },
  {
   "cell_type": "code",
   "execution_count": 10,
   "metadata": {},
   "outputs": [
    {
     "name": "stdout",
     "output_type": "stream",
     "text": [
      "3 X 1 = 3\n",
      "3 X 2 = 6\n",
      "3 X 3 = 9\n"
     ]
    }
   ],
   "source": [
    "# 문제 147 리스트에는 세 개의 숫자가 바인딩돼 있다.\n",
    "# for문을 사용해서 다음과 같이 출력하라.\n",
    "리스트 = [1, 2, 3]\n",
    "for i in 리스트:\n",
    "    print (\"3 X {} =\".format(i), i*3)"
   ]
  },
  {
   "cell_type": "code",
   "execution_count": 13,
   "metadata": {},
   "outputs": [
    {
     "name": "stdout",
     "output_type": "stream",
     "text": [
      "나\n",
      "다\n",
      "라\n"
     ]
    }
   ],
   "source": [
    "# 문제 148 리스트에는 네 개의 문자열이 바인딩돼 있다.\n",
    "# for문을 사용해서 다음과 같이 출력하라.\n",
    "리스트 = [\"가\", \"나\", \"다\", \"라\"]\n",
    "for i in 리스트[1:]:\n",
    "    print (i)"
   ]
  },
  {
   "cell_type": "code",
   "execution_count": 18,
   "metadata": {},
   "outputs": [
    {
     "name": "stdout",
     "output_type": "stream",
     "text": [
      "가\n",
      "다\n"
     ]
    }
   ],
   "source": [
    "# 문제 149 리스트에는 네 개의 문자열이 바인딩돼 있다.\n",
    "# for문을 사용해서 다음과 같이 출력하라.\n",
    "리스트 = [\"가\", \"나\", \"다\", \"라\"]\n",
    "for i in 리스트[0], 리스트[2]:\n",
    "    print(i)"
   ]
  },
  {
   "cell_type": "code",
   "execution_count": 24,
   "metadata": {},
   "outputs": [
    {
     "name": "stdout",
     "output_type": "stream",
     "text": [
      "라\n",
      "다\n",
      "나\n",
      "가\n"
     ]
    }
   ],
   "source": [
    "# 문제 150 리스트에는 네 개의 문자열이 바인딩돼 있다.\n",
    "# for문을 사용해서 다음과 같이 출력하라.\n",
    "리스트 = [\"가\", \"나\", \"다\", \"라\"]\n",
    "\n",
    "for i in 리스트[::-1]:\n",
    "    print(i)"
   ]
  },
  {
   "cell_type": "code",
   "execution_count": 25,
   "metadata": {},
   "outputs": [
    {
     "name": "stdout",
     "output_type": "stream",
     "text": [
      "-20\n",
      "-3\n"
     ]
    }
   ],
   "source": [
    "# 문제 151 리스트에는 네 개의 정수가 저장돼 있다.\n",
    "# for문을 사용해서 리스트의 음수를 출력하라.\n",
    "리스트 = [3, -20, -3, 44]\n",
    "for i in 리스트:\n",
    "    if i < 0:\n",
    "        print(i)"
   ]
  },
  {
   "cell_type": "code",
   "execution_count": 26,
   "metadata": {},
   "outputs": [
    {
     "name": "stdout",
     "output_type": "stream",
     "text": [
      "3\n"
     ]
    }
   ],
   "source": [
    "# 문제 152 for문을 사용해서 3의 배수만을 출력하라.\n",
    "리스트 = [3, 100, 23, 44]\n",
    "for i in 리스트:\n",
    "    if i % 3 == 0:\n",
    "        print(i)"
   ]
  },
  {
   "cell_type": "code",
   "execution_count": 27,
   "metadata": {},
   "outputs": [
    {
     "name": "stdout",
     "output_type": "stream",
     "text": [
      "12\n",
      "18\n"
     ]
    }
   ],
   "source": [
    "# 문제 153 리스트에서 20 보다 작은 3의 배수를 출력하라\n",
    "리스트 = [13, 21, 12, 14, 30, 18]\n",
    "for i in 리스트:\n",
    "    if i % 3 == 0 and i < 20:\n",
    "        print(i)"
   ]
  },
  {
   "cell_type": "code",
   "execution_count": 28,
   "metadata": {},
   "outputs": [
    {
     "name": "stdout",
     "output_type": "stream",
     "text": [
      "study\n",
      "python\n",
      "language\n"
     ]
    }
   ],
   "source": [
    "# 문제 154 리스트에서 세 글자 이상의 문자를 화면에 출력하라\n",
    "리스트 = [\"I\", \"study\", \"python\", \"language\", \"!\"]\n",
    "for i in 리스트:\n",
    "    if len(i) > 3:\n",
    "        print(i)"
   ]
  },
  {
   "cell_type": "code",
   "execution_count": 30,
   "metadata": {},
   "outputs": [
    {
     "name": "stdout",
     "output_type": "stream",
     "text": [
      "A\n",
      "D\n"
     ]
    }
   ],
   "source": [
    "# 문제 155 리스트에서 대문자만 화면에 출력하라.\n",
    "리스트 = [\"A\", \"b\", \"c\", \"D\"]\n",
    "for i in 리스트:\n",
    "    if i.isupper() is True:\n",
    "        print(i)"
   ]
  },
  {
   "cell_type": "code",
   "execution_count": 31,
   "metadata": {},
   "outputs": [
    {
     "name": "stdout",
     "output_type": "stream",
     "text": [
      "b\n",
      "c\n"
     ]
    }
   ],
   "source": [
    "# 문제 156 리스트에서 소문자만 화면에 출력하라.\n",
    "리스트 = [\"A\", \"b\", \"c\", \"D\"]\n",
    "for i in 리스트:\n",
    "    if i.islower() is True:\n",
    "        print(i)"
   ]
  },
  {
   "cell_type": "code",
   "execution_count": 33,
   "metadata": {},
   "outputs": [
    {
     "ename": "TypeError",
     "evalue": "upper() takes no arguments (1 given)",
     "output_type": "error",
     "traceback": [
      "\u001b[0;31m---------------------------------------------------------------------------\u001b[0m",
      "\u001b[0;31mTypeError\u001b[0m                                 Traceback (most recent call last)",
      "\u001b[0;32m<ipython-input-33-f6efc956e3d3>\u001b[0m in \u001b[0;36m<module>\u001b[0;34m\u001b[0m\n\u001b[1;32m      2\u001b[0m \u001b[0m리스트\u001b[0m \u001b[0;34m=\u001b[0m \u001b[0;34m[\u001b[0m\u001b[0;34m'dog'\u001b[0m\u001b[0;34m,\u001b[0m \u001b[0;34m'cat'\u001b[0m\u001b[0;34m,\u001b[0m \u001b[0;34m'parrot'\u001b[0m\u001b[0;34m]\u001b[0m\u001b[0;34m\u001b[0m\u001b[0;34m\u001b[0m\u001b[0m\n\u001b[1;32m      3\u001b[0m \u001b[0;32mfor\u001b[0m \u001b[0mi\u001b[0m \u001b[0;32min\u001b[0m \u001b[0m리스트\u001b[0m\u001b[0;34m:\u001b[0m\u001b[0;34m\u001b[0m\u001b[0;34m\u001b[0m\u001b[0m\n\u001b[0;32m----> 4\u001b[0;31m     \u001b[0mprint\u001b[0m \u001b[0;34m(\u001b[0m\u001b[0mi\u001b[0m\u001b[0;34m.\u001b[0m\u001b[0mupper\u001b[0m\u001b[0;34m(\u001b[0m\u001b[0mi\u001b[0m\u001b[0;34m[\u001b[0m\u001b[0;36m0\u001b[0m\u001b[0;34m]\u001b[0m\u001b[0;34m)\u001b[0m\u001b[0;34m)\u001b[0m\u001b[0;34m\u001b[0m\u001b[0;34m\u001b[0m\u001b[0m\n\u001b[0m",
      "\u001b[0;31mTypeError\u001b[0m: upper() takes no arguments (1 given)"
     ]
    }
   ],
   "source": [
    "# 문제 157 이름의 첫 글자를 대문자로 변경해서 출력하라.\n",
    "리스트 = ['dog', 'cat', 'parrot']\n",
    "for i in 리스트:\n",
    "    print (i.upper(i[0]))"
   ]
  },
  {
   "cell_type": "code",
   "execution_count": 35,
   "metadata": {},
   "outputs": [
    {
     "name": "stdout",
     "output_type": "stream",
     "text": [
      "Dog\n",
      "Cat\n",
      "Parrot\n"
     ]
    }
   ],
   "source": [
    "# 문제 157 정답\n",
    "리스트 = ['dog', 'cat', 'parrot']\n",
    "for i in 리스트:\n",
    "    print (i[0].upper() + i[1:])"
   ]
  },
  {
   "cell_type": "code",
   "execution_count": 41,
   "metadata": {},
   "outputs": [
    {
     "name": "stdout",
     "output_type": "stream",
     "text": [
      "['hello', 'py']\n",
      "['ex01', 'py']\n",
      "['intro', 'hwp']\n"
     ]
    }
   ],
   "source": [
    "# 문제 158 파일 이름이 저장된 리스트에서 확장자를 제거하고 파일 이름만 화면에 출력하라. (힌트: split() 메서드)\n",
    "리스트 = ['hello.py', 'ex01.py', 'intro.hwp']\n",
    "for i in 리스트:\n",
    "    print(i.split('.'))\n",
    "    "
   ]
  },
  {
   "cell_type": "code",
   "execution_count": 43,
   "metadata": {},
   "outputs": [
    {
     "name": "stdout",
     "output_type": "stream",
     "text": [
      "hello\n",
      "ex01\n",
      "intro\n"
     ]
    }
   ],
   "source": [
    "# 문제 158 정답\n",
    "리스트 = ['hello.py', 'ex01.py', 'intro.hwp']\n",
    "for i in 리스트:\n",
    "    split = i.split('.')\n",
    "    print(split[0])"
   ]
  },
  {
   "cell_type": "code",
   "execution_count": 44,
   "metadata": {},
   "outputs": [
    {
     "name": "stdout",
     "output_type": "stream",
     "text": [
      "intra.h\n",
      "define.h\n"
     ]
    }
   ],
   "source": [
    "# 문제 159 파일 이름이 저장된 리스트에서 확장자가 .h인 파일 이름을 출력하라.\n",
    "리스트 = ['intra.h', 'intra.c', 'define.h', 'run.py']\n",
    "for i in 리스트:\n",
    "    split = i.split('.')\n",
    "    if split[1] is 'h':\n",
    "        print(i)"
   ]
  },
  {
   "cell_type": "code",
   "execution_count": 49,
   "metadata": {},
   "outputs": [
    {
     "name": "stdout",
     "output_type": "stream",
     "text": [
      "intra.h\n",
      "intra.c\n",
      "define.h\n"
     ]
    }
   ],
   "source": [
    "# 문제 160 파일 이름이 저장된 리스트에서 확장자가 .h나 .c인 파일을 화면에 출력하라.\n",
    "리스트 = ['intra.h', 'intra.c', 'define.h', 'run.py']\n",
    "for i in 리스트:\n",
    "    split = i.split('.')\n",
    "    if split[1] == 'h' or split[1] == 'c':\n",
    "        print(i)"
   ]
  },
  {
   "cell_type": "code",
   "execution_count": 1,
   "metadata": {
    "scrolled": true
   },
   "outputs": [
    {
     "name": "stdout",
     "output_type": "stream",
     "text": [
      "0\n",
      "1\n",
      "2\n",
      "3\n",
      "4\n",
      "5\n",
      "6\n",
      "7\n",
      "8\n",
      "9\n",
      "10\n",
      "11\n",
      "12\n",
      "13\n",
      "14\n",
      "15\n",
      "16\n",
      "17\n",
      "18\n",
      "19\n",
      "20\n",
      "21\n",
      "22\n",
      "23\n",
      "24\n",
      "25\n",
      "26\n",
      "27\n",
      "28\n",
      "29\n",
      "30\n",
      "31\n",
      "32\n",
      "33\n",
      "34\n",
      "35\n",
      "36\n",
      "37\n",
      "38\n",
      "39\n",
      "40\n",
      "41\n",
      "42\n",
      "43\n",
      "44\n",
      "45\n",
      "46\n",
      "47\n",
      "48\n",
      "49\n",
      "50\n",
      "51\n",
      "52\n",
      "53\n",
      "54\n",
      "55\n",
      "56\n",
      "57\n",
      "58\n",
      "59\n",
      "60\n",
      "61\n",
      "62\n",
      "63\n",
      "64\n",
      "65\n",
      "66\n",
      "67\n",
      "68\n",
      "69\n",
      "70\n",
      "71\n",
      "72\n",
      "73\n",
      "74\n",
      "75\n",
      "76\n",
      "77\n",
      "78\n",
      "79\n",
      "80\n",
      "81\n",
      "82\n",
      "83\n",
      "84\n",
      "85\n",
      "86\n",
      "87\n",
      "88\n",
      "89\n",
      "90\n",
      "91\n",
      "92\n",
      "93\n",
      "94\n",
      "95\n",
      "96\n",
      "97\n",
      "98\n",
      "99\n"
     ]
    }
   ],
   "source": [
    "# 문제 161 for문과 range 구문을 사용해서 0~99까지 한 라인에 하나씩 순차적으로 출력하는 프로그램을 작성하라.\n",
    "for i in range(0,100):\n",
    "    print(i)"
   ]
  },
  {
   "cell_type": "code",
   "execution_count": 2,
   "metadata": {},
   "outputs": [
    {
     "name": "stdout",
     "output_type": "stream",
     "text": [
      "2002\n",
      "2006\n",
      "2010\n",
      "2014\n",
      "2018\n",
      "2022\n",
      "2026\n",
      "2030\n",
      "2034\n",
      "2038\n",
      "2042\n",
      "2046\n",
      "2050\n"
     ]
    }
   ],
   "source": [
    "# 문제 162 월드컵은 4년에 한 번 개최된다. range()를 사용하여 2002~2050년까지 중 월드컵이 개최되는 연도를 출력하라\n",
    "for i in range(2002,2051,4):\n",
    "    print(i)"
   ]
  },
  {
   "cell_type": "code",
   "execution_count": 3,
   "metadata": {},
   "outputs": [
    {
     "name": "stdout",
     "output_type": "stream",
     "text": [
      "3\n",
      "6\n",
      "9\n",
      "12\n",
      "15\n",
      "18\n",
      "21\n",
      "24\n",
      "27\n",
      "30\n"
     ]
    }
   ],
   "source": [
    "# 문제 163 1부터 30까지의 숫자 중 3의 배수를 출력하라.\n",
    "for i in range(1,31):\n",
    "    if i % 3 == 0:\n",
    "        print(i)"
   ]
  },
  {
   "cell_type": "code",
   "execution_count": 5,
   "metadata": {
    "scrolled": true
   },
   "outputs": [
    {
     "name": "stdout",
     "output_type": "stream",
     "text": [
      "99\n",
      "98\n",
      "97\n",
      "96\n",
      "95\n",
      "94\n",
      "93\n",
      "92\n",
      "91\n",
      "90\n",
      "89\n",
      "88\n",
      "87\n",
      "86\n",
      "85\n",
      "84\n",
      "83\n",
      "82\n",
      "81\n",
      "80\n",
      "79\n",
      "78\n",
      "77\n",
      "76\n",
      "75\n",
      "74\n",
      "73\n",
      "72\n",
      "71\n",
      "70\n",
      "69\n",
      "68\n",
      "67\n",
      "66\n",
      "65\n",
      "64\n",
      "63\n",
      "62\n",
      "61\n",
      "60\n",
      "59\n",
      "58\n",
      "57\n",
      "56\n",
      "55\n",
      "54\n",
      "53\n",
      "52\n",
      "51\n",
      "50\n",
      "49\n",
      "48\n",
      "47\n",
      "46\n",
      "45\n",
      "44\n",
      "43\n",
      "42\n",
      "41\n",
      "40\n",
      "39\n",
      "38\n",
      "37\n",
      "36\n",
      "35\n",
      "34\n",
      "33\n",
      "32\n",
      "31\n",
      "30\n",
      "29\n",
      "28\n",
      "27\n",
      "26\n",
      "25\n",
      "24\n",
      "23\n",
      "22\n",
      "21\n",
      "20\n",
      "19\n",
      "18\n",
      "17\n",
      "16\n",
      "15\n",
      "14\n",
      "13\n",
      "12\n",
      "11\n",
      "10\n",
      "9\n",
      "8\n",
      "7\n",
      "6\n",
      "5\n",
      "4\n",
      "3\n",
      "2\n",
      "1\n",
      "0\n"
     ]
    }
   ],
   "source": [
    "# 문제 164 99부터 0까지 1씩 감소하는 숫자들을, 한 라인에 하나씩 출력하라.\n",
    "for i in range(99,-1,-1):\n",
    "    print(i)"
   ]
  },
  {
   "cell_type": "code",
   "execution_count": 9,
   "metadata": {},
   "outputs": [
    {
     "ename": "TypeError",
     "evalue": "float expected at most 1 arguments, got 3",
     "output_type": "error",
     "traceback": [
      "\u001b[0;31m---------------------------------------------------------------------------\u001b[0m",
      "\u001b[0;31mTypeError\u001b[0m                                 Traceback (most recent call last)",
      "\u001b[0;32m<ipython-input-9-03c3c2c324ce>\u001b[0m in \u001b[0;36m<module>\u001b[0;34m\u001b[0m\n\u001b[1;32m      8\u001b[0m \u001b[0;31m#   ...\u001b[0m\u001b[0;34m\u001b[0m\u001b[0;34m\u001b[0m\u001b[0;34m\u001b[0m\u001b[0m\n\u001b[1;32m      9\u001b[0m \u001b[0;31m#   0.9\u001b[0m\u001b[0;34m\u001b[0m\u001b[0;34m\u001b[0m\u001b[0;34m\u001b[0m\u001b[0m\n\u001b[0;32m---> 10\u001b[0;31m \u001b[0;32mfor\u001b[0m \u001b[0mi\u001b[0m \u001b[0;32min\u001b[0m \u001b[0mrange\u001b[0m\u001b[0;34m(\u001b[0m\u001b[0mfloat\u001b[0m\u001b[0;34m(\u001b[0m\u001b[0;36m0.0\u001b[0m\u001b[0;34m,\u001b[0m\u001b[0;36m1.0\u001b[0m\u001b[0;34m,\u001b[0m\u001b[0;36m0.1\u001b[0m\u001b[0;34m)\u001b[0m\u001b[0;34m)\u001b[0m\u001b[0;34m:\u001b[0m\u001b[0;34m\u001b[0m\u001b[0;34m\u001b[0m\u001b[0m\n\u001b[0m\u001b[1;32m     11\u001b[0m     \u001b[0mprint\u001b[0m\u001b[0;34m(\u001b[0m\u001b[0mi\u001b[0m\u001b[0;34m)\u001b[0m\u001b[0;34m\u001b[0m\u001b[0;34m\u001b[0m\u001b[0m\n",
      "\u001b[0;31mTypeError\u001b[0m: float expected at most 1 arguments, got 3"
     ]
    }
   ],
   "source": [
    "# 문제 165 for문을 사용해서 아래와 같이 출력하라.\n",
    "#   0.0\n",
    "#   0.1\n",
    "#   0.2\n",
    "#   0.3\n",
    "#   0.4\n",
    "#   0.5\n",
    "#   ...\n",
    "#   0.9\n",
    "for i in range(float(0.0,1.0,0.1)):\n",
    "    print(i)"
   ]
  },
  {
   "cell_type": "code",
   "execution_count": 11,
   "metadata": {},
   "outputs": [
    {
     "name": "stdout",
     "output_type": "stream",
     "text": [
      "0.0 0\n",
      "0.1 1\n",
      "0.2 2\n",
      "0.3 3\n",
      "0.4 4\n",
      "0.5 5\n",
      "0.6 6\n",
      "0.7 7\n",
      "0.8 8\n",
      "0.9 9\n"
     ]
    }
   ],
   "source": [
    "# 문제 165 정답\n",
    "for num in range(10) :\n",
    "    print(num / 10, num)\n",
    "    \n",
    "# 정답이 이해가 잘 되지 않습니다."
   ]
  },
  {
   "cell_type": "code",
   "execution_count": 14,
   "metadata": {},
   "outputs": [
    {
     "name": "stdout",
     "output_type": "stream",
     "text": [
      "3 x 1 = 3\n",
      "3 x 2 = 6\n",
      "3 x 3 = 9\n",
      "3 x 4 = 12\n",
      "3 x 5 = 15\n",
      "3 x 6 = 18\n",
      "3 x 7 = 21\n",
      "3 x 8 = 24\n",
      "3 x 9 = 27\n"
     ]
    }
   ],
   "source": [
    "# 문제 166 구구단 3단을 출력하라.\n",
    "for i in range(1,10):\n",
    "    print ('3 x {} ='.format(i), i*3)\n",
    "        "
   ]
  },
  {
   "cell_type": "code",
   "execution_count": 16,
   "metadata": {},
   "outputs": [
    {
     "name": "stdout",
     "output_type": "stream",
     "text": [
      "3 x 1 = 3\n",
      "3 x 3 = 9\n",
      "3 x 5 = 15\n",
      "3 x 7 = 21\n",
      "3 x 9 = 27\n"
     ]
    }
   ],
   "source": [
    "# 문제 167 구구단 3단을 출력하라. 단 홀수 번째만 출력한다.\n",
    "for i in range(1,10):\n",
    "    if i % 2 != 0:\n",
    "        print ('3 x {} ='.format(i), i*3)"
   ]
  },
  {
   "cell_type": "code",
   "execution_count": 18,
   "metadata": {},
   "outputs": [
    {
     "name": "stdout",
     "output_type": "stream",
     "text": [
      "3\n",
      "5\n",
      "7\n",
      "9\n",
      "11\n",
      "13\n",
      "15\n",
      "17\n",
      "19\n",
      "21\n"
     ]
    }
   ],
   "source": [
    "# 문제 168 1~10까지의 숫자에 대해 모두 더한 값을 출력하는 프로그램을 for 문을 사용하여 작성하라.\n",
    "for i in range(1,11):\n",
    "    print (i+(i+1))"
   ]
  },
  {
   "cell_type": "code",
   "execution_count": 19,
   "metadata": {},
   "outputs": [
    {
     "name": "stdout",
     "output_type": "stream",
     "text": [
      "합 : 55\n"
     ]
    }
   ],
   "source": [
    "# 문제 168 정답\n",
    "hab = 0\n",
    "for i in range(1, 11):\n",
    "    hab += i\n",
    "print (\"합 :\", hab)"
   ]
  },
  {
   "cell_type": "code",
   "execution_count": 24,
   "metadata": {},
   "outputs": [
    {
     "name": "stdout",
     "output_type": "stream",
     "text": [
      "합 : 25\n"
     ]
    }
   ],
   "source": [
    "# 문제 169 1~10까지의 숫자 중 모든 홀수의 합을 출력하는 프로그램을 for 문을 사용하여 작성하라.\n",
    "hab = 0\n",
    "for i in range(1, 11, 2):\n",
    "    hab += i\n",
    "print (\"합 :\", hab)"
   ]
  },
  {
   "cell_type": "code",
   "execution_count": 27,
   "metadata": {},
   "outputs": [
    {
     "name": "stdout",
     "output_type": "stream",
     "text": [
      "곱 : 3628800\n"
     ]
    }
   ],
   "source": [
    "# 문제 170 1~10까지의 숫자를 모두 곱한 값을 출력하는 프로그램을 for 문을 사용하여 작성하라.\n",
    "hab = 1\n",
    "for i in range(1, 11):\n",
    "    hab *= i\n",
    "print (\"곱 :\", hab)"
   ]
  },
  {
   "cell_type": "code",
   "execution_count": 31,
   "metadata": {},
   "outputs": [
    {
     "name": "stdout",
     "output_type": "stream",
     "text": [
      "32100\n",
      "32150\n",
      "32000\n",
      "32500\n"
     ]
    }
   ],
   "source": [
    "# 문제 171 아래와 같이 리스트의 데이터를 출력하라. 단, for문과 range문을 사용하라.\n",
    "price_list = [32100, 32150, 32000, 32500]\n",
    "for i in range(4):\n",
    "    print (price_list[i])\n",
    "\n",
    "# for문만 사용해도 같은 값이 나오는데 range문을 함께 써주는 이유가 있을까요?"
   ]
  },
  {
   "cell_type": "code",
   "execution_count": 32,
   "metadata": {},
   "outputs": [
    {
     "name": "stdout",
     "output_type": "stream",
     "text": [
      "0 32100\n",
      "1 32150\n",
      "2 32000\n",
      "3 32500\n"
     ]
    }
   ],
   "source": [
    "# 문제 172 아래와 같이 리스트의 데이터를 출력하라. 단, for문과 range문을 사용하라.\n",
    "price_list = [32100, 32150, 32000, 32500]\n",
    "for i in range(0,4):\n",
    "    print (i, price_list[i])\n"
   ]
  },
  {
   "cell_type": "code",
   "execution_count": 34,
   "metadata": {},
   "outputs": [
    {
     "name": "stdout",
     "output_type": "stream",
     "text": [
      "3 32500\n",
      "2 32000\n",
      "1 32150\n",
      "0 32100\n"
     ]
    }
   ],
   "source": [
    "# 문제 173 아래와 같이 리스트의 데이터를 출력하라. 단, for문과 range문을 사용하라.\n",
    "price_list = [32100, 32150, 32000, 32500]\n",
    "for i in range(3,-1,-1):\n",
    "    print (i, price_list[i])"
   ]
  },
  {
   "cell_type": "code",
   "execution_count": 39,
   "metadata": {},
   "outputs": [
    {
     "ename": "TypeError",
     "evalue": "'int' object is not subscriptable",
     "output_type": "error",
     "traceback": [
      "\u001b[0;31m---------------------------------------------------------------------------\u001b[0m",
      "\u001b[0;31mTypeError\u001b[0m                                 Traceback (most recent call last)",
      "\u001b[0;32m<ipython-input-39-be13ec5894ef>\u001b[0m in \u001b[0;36m<module>\u001b[0;34m\u001b[0m\n\u001b[1;32m      2\u001b[0m \u001b[0mprice_list\u001b[0m \u001b[0;34m=\u001b[0m \u001b[0;34m[\u001b[0m\u001b[0;36m32100\u001b[0m\u001b[0;34m,\u001b[0m \u001b[0;36m32150\u001b[0m\u001b[0;34m,\u001b[0m \u001b[0;36m32000\u001b[0m\u001b[0;34m,\u001b[0m \u001b[0;36m32500\u001b[0m\u001b[0;34m]\u001b[0m\u001b[0;34m\u001b[0m\u001b[0;34m\u001b[0m\u001b[0m\n\u001b[1;32m      3\u001b[0m \u001b[0;32mfor\u001b[0m \u001b[0mi\u001b[0m \u001b[0;32min\u001b[0m \u001b[0mrange\u001b[0m\u001b[0;34m(\u001b[0m\u001b[0;36m100\u001b[0m\u001b[0;34m,\u001b[0m\u001b[0;36m121\u001b[0m\u001b[0;34m,\u001b[0m\u001b[0;36m10\u001b[0m\u001b[0;34m)\u001b[0m\u001b[0;34m:\u001b[0m\u001b[0;34m\u001b[0m\u001b[0;34m\u001b[0m\u001b[0m\n\u001b[0;32m----> 4\u001b[0;31m     \u001b[0mprint\u001b[0m \u001b[0;34m(\u001b[0m\u001b[0mi\u001b[0m\u001b[0;34m,\u001b[0m \u001b[0mprice_list\u001b[0m\u001b[0;34m[\u001b[0m\u001b[0mi\u001b[0m\u001b[0;34m[\u001b[0m\u001b[0;36m1\u001b[0m\u001b[0;34m:\u001b[0m\u001b[0;36m4\u001b[0m\u001b[0;34m]\u001b[0m\u001b[0;34m]\u001b[0m\u001b[0;34m)\u001b[0m\u001b[0;34m\u001b[0m\u001b[0;34m\u001b[0m\u001b[0m\n\u001b[0m",
      "\u001b[0;31mTypeError\u001b[0m: 'int' object is not subscriptable"
     ]
    }
   ],
   "source": [
    "# 문제 174 아래와 같이 리스트의 데이터를 출력하라. 단, for문과 range문을 사용하라.\n",
    "price_list = [32100, 32150, 32000, 32500]\n",
    "for i in range(100,121,10):\n",
    "    print (i, price_list[i[1:4]])"
   ]
  },
  {
   "cell_type": "code",
   "execution_count": 42,
   "metadata": {},
   "outputs": [
    {
     "name": "stdout",
     "output_type": "stream",
     "text": [
      "100 32150\n",
      "110 32000\n",
      "120 32500\n"
     ]
    }
   ],
   "source": [
    "# 문제 174 정답\n",
    "for i in range(1, 4):\n",
    "    print(90 + 10 * i, price_list[i])\n",
    "    \n",
    "# 해당 코드를 사용했을 때, 어떻게 첫번째 인자가 생략이 되었는지 궁금합니다."
   ]
  },
  {
   "cell_type": "code",
   "execution_count": 47,
   "metadata": {},
   "outputs": [
    {
     "name": "stdout",
     "output_type": "stream",
     "text": [
      "가나\n",
      "나다\n",
      "다라\n"
     ]
    }
   ],
   "source": [
    "# 문제 175 my_list를 아래와 같이 출력하라.\n",
    "# 가 나\n",
    "# 나 다\n",
    "# 다 라\n",
    "\n",
    "my_list = [\"가\", \"나\", \"다\", \"라\"]\n",
    "for i in [0,1,2]:\n",
    "    print(my_list[i] + my_list[i+1])"
   ]
  },
  {
   "cell_type": "code",
   "execution_count": 49,
   "metadata": {},
   "outputs": [
    {
     "name": "stdout",
     "output_type": "stream",
     "text": [
      "가나다\n",
      "나다라\n",
      "다라마\n"
     ]
    }
   ],
   "source": [
    "# 문제 176 리스트를 아래와 같이 출력하라.\n",
    "my_list = [\"가\", \"나\", \"다\", \"라\", \"마\"]\n",
    "for i in [0,1,2]:\n",
    "    print(my_list[i] + my_list[i+1] + my_list[i+2])"
   ]
  },
  {
   "cell_type": "code",
   "execution_count": 51,
   "metadata": {},
   "outputs": [
    {
     "name": "stdout",
     "output_type": "stream",
     "text": [
      "라다\n",
      "가라\n",
      "나가\n"
     ]
    }
   ],
   "source": [
    "# 문제 177 반복문과 range 함수를 사용해서 my_list를 아래와 같이 출력하라.\n",
    "my_list = [\"가\", \"나\", \"다\", \"라\"]\n",
    "for i in [0,1,2]:\n",
    "    print(my_list[i-1] + my_list[i-2])"
   ]
  },
  {
   "cell_type": "code",
   "execution_count": 52,
   "metadata": {},
   "outputs": [
    {
     "name": "stdout",
     "output_type": "stream",
     "text": [
      "라 다\n",
      "다 나\n",
      "나 가\n"
     ]
    }
   ],
   "source": [
    "# 문제 177 정답\n",
    "for i in range(len(my_list) - 1, 0, -1):\n",
    "    print(my_list[i], my_list[i-1])"
   ]
  },
  {
   "cell_type": "code",
   "execution_count": 55,
   "metadata": {},
   "outputs": [
    {
     "name": "stdout",
     "output_type": "stream",
     "text": [
      "100\n",
      "200\n",
      "400\n"
     ]
    }
   ],
   "source": [
    "# 문제 178 리스트에는 네 개의 정수가 저장되어 있다. 각각의 데이터에 대해서 자신과 우측값과의 차분값을 화면에 출력하라.\n",
    "my_list = [100, 200, 400, 800]\n",
    "for i in [0,1,2]:\n",
    "    print(my_list[i+1] - my_list[i])"
   ]
  },
  {
   "cell_type": "code",
   "execution_count": 56,
   "metadata": {},
   "outputs": [
    {
     "name": "stdout",
     "output_type": "stream",
     "text": [
      "233.33333333333334\n",
      "466.6666666666667\n",
      "733.3333333333334\n",
      "1033.3333333333333\n"
     ]
    }
   ],
   "source": [
    "# 문제 179 리스트에는 6일 간의 종가 데이터가 저장되어 있다. 종가 데이터의 3일 이동 평균을 계산하고 이를 화면에 출력하라.\n",
    "my_list = [100, 200, 400, 800, 1000, 1300]\n",
    "for i in [0,1,2,3]:\n",
    "    print((my_list[i] + my_list[i+1] + my_list[i+2])/3)"
   ]
  },
  {
   "cell_type": "code",
   "execution_count": 57,
   "metadata": {},
   "outputs": [
    {
     "name": "stdout",
     "output_type": "stream",
     "text": [
      "50\n",
      "100\n",
      "30\n",
      "80\n",
      "0\n"
     ]
    },
    {
     "ename": "IndexError",
     "evalue": "list index out of range",
     "output_type": "error",
     "traceback": [
      "\u001b[0;31m---------------------------------------------------------------------------\u001b[0m",
      "\u001b[0;31mIndexError\u001b[0m                                Traceback (most recent call last)",
      "\u001b[0;32m<ipython-input-57-bec6296c38c6>\u001b[0m in \u001b[0;36m<module>\u001b[0;34m\u001b[0m\n\u001b[1;32m      4\u001b[0m \u001b[0mhigh_prices\u001b[0m \u001b[0;34m=\u001b[0m \u001b[0;34m[\u001b[0m\u001b[0;36m150\u001b[0m\u001b[0;34m,\u001b[0m \u001b[0;36m300\u001b[0m\u001b[0;34m,\u001b[0m \u001b[0;36m430\u001b[0m\u001b[0;34m,\u001b[0m \u001b[0;36m880\u001b[0m\u001b[0;34m,\u001b[0m \u001b[0;36m1000\u001b[0m\u001b[0;34m]\u001b[0m\u001b[0;34m\u001b[0m\u001b[0;34m\u001b[0m\u001b[0m\n\u001b[1;32m      5\u001b[0m \u001b[0;32mfor\u001b[0m \u001b[0mi\u001b[0m \u001b[0;32min\u001b[0m \u001b[0;34m[\u001b[0m\u001b[0;36m0\u001b[0m\u001b[0;34m,\u001b[0m\u001b[0;36m1\u001b[0m\u001b[0;34m,\u001b[0m\u001b[0;36m2\u001b[0m\u001b[0;34m,\u001b[0m\u001b[0;36m3\u001b[0m\u001b[0;34m,\u001b[0m\u001b[0;36m4\u001b[0m\u001b[0;34m,\u001b[0m\u001b[0;36m5\u001b[0m\u001b[0;34m]\u001b[0m\u001b[0;34m:\u001b[0m\u001b[0;34m\u001b[0m\u001b[0;34m\u001b[0m\u001b[0m\n\u001b[0;32m----> 6\u001b[0;31m     \u001b[0mvolatility\u001b[0m \u001b[0;34m=\u001b[0m \u001b[0mhigh_prices\u001b[0m\u001b[0;34m[\u001b[0m\u001b[0mi\u001b[0m\u001b[0;34m]\u001b[0m \u001b[0;34m-\u001b[0m \u001b[0mlow_prices\u001b[0m\u001b[0;34m[\u001b[0m\u001b[0mi\u001b[0m\u001b[0;34m]\u001b[0m\u001b[0;34m\u001b[0m\u001b[0;34m\u001b[0m\u001b[0m\n\u001b[0m\u001b[1;32m      7\u001b[0m     \u001b[0mprint\u001b[0m \u001b[0;34m(\u001b[0m\u001b[0mvolatility\u001b[0m\u001b[0;34m)\u001b[0m\u001b[0;34m\u001b[0m\u001b[0;34m\u001b[0m\u001b[0m\n",
      "\u001b[0;31mIndexError\u001b[0m: list index out of range"
     ]
    }
   ],
   "source": [
    "# 문제 180 리스트에 5일간의 저가, 고가 정보가 저장돼 있다. \n",
    "#고가와 저가의 차를 변동폭이라고 정의할 때, low, high 두 개의 리스트를 사용해서 5일간의 변동폭을 volatility 리스트에 저장하라.\n",
    "low_prices  = [100, 200, 400, 800, 1000]\n",
    "high_prices = [150, 300, 430, 880, 1000]\n",
    "for i in [0,1,2,3,4,5]:\n",
    "    volatility = high_prices[i] - low_prices[i]\n",
    "    print (volatility)\n"
   ]
  },
  {
   "cell_type": "code",
   "execution_count": 61,
   "metadata": {},
   "outputs": [],
   "source": [
    "# 문제 180 정답\n",
    "low_prices  = [100, 200, 400, 800, 1000]\n",
    "high_prices = [150, 300, 430, 880, 1000]\n",
    "\n",
    "volatility = []\n",
    "for i in range(len(low_prices)) :\n",
    "    volatility.append(high_prices[i] - low_prices[i])"
   ]
  }
 ],
 "metadata": {
  "kernelspec": {
   "display_name": "Python 3",
   "language": "python",
   "name": "python3"
  },
  "language_info": {
   "codemirror_mode": {
    "name": "ipython",
    "version": 3
   },
   "file_extension": ".py",
   "mimetype": "text/x-python",
   "name": "python",
   "nbconvert_exporter": "python",
   "pygments_lexer": "ipython3",
   "version": "3.7.9"
  }
 },
 "nbformat": 4,
 "nbformat_minor": 4
}
