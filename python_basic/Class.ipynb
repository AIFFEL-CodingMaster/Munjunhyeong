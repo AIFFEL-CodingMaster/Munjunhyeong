{
 "cells": [
  {
   "cell_type": "code",
   "execution_count": 3,
   "metadata": {},
   "outputs": [],
   "source": [
    "class GameMachine:\n",
    "    where = \"main\"\n",
    "    power = 'off'\n",
    "    game_list = [\"피파\", \"위닝\", \"GTA\", \"레데리\"]\n",
    "    Wifi = \"off\"\n",
    "    \n",
    "    def __init__(self, company, model, color):\n",
    "        self.company = company,\n",
    "        self.model = model,\n",
    "        self.color = color\n",
    "        \n",
    "        if company == \"Sony\":\n",
    "            self.game_list.append(\"PSstore\")\n",
    "        else:\n",
    "            self.game_list.append(\"Xboxlive\")\n",
    "    \n",
    "    def power_on_or_off(self):\n",
    "        if self.power == 'off':\n",
    "            self.power = 'on'\n",
    "            print('전원이 켜졌습니다')\n",
    "        elif self.power == 'on':\n",
    "            self.power = 'off'\n",
    "            print('전원이 꺼졌습니다')\n",
    "            \n",
    "    def show_my_games(self):\n",
    "        print(f\"나의 games : {self.game_list}\")\n",
    "        return self.game_list\n",
    "    \n",
    "    def connect_Wifi(self):\n",
    "        self.Wifi == \"on\"\n",
    "        \n",
    "    def game_download(self, game_name):\n",
    "        if self.company == \"Sony\":\n",
    "            self.where = \"PSstore\"\n",
    "        else:\n",
    "            self.where = \"Xboxlive\"\n",
    "        \n",
    "        if self.Wifi =='on' and self.power =='on':\n",
    "            print(f'{game_name} 을 다운로드 합니다.')\n",
    "            return self.game_list\n",
    "        \n",
    "        elif self.power == 'off':\n",
    "            raise RuntimeError('전원을 확인하세요')\n",
    "            \n",
    "        elif self.Wifi =='off':\n",
    "            while True:\n",
    "                ask = input('Wifi 리스트가 없습니다. 검색하여 연결하시겠습니까? yes or no')\n",
    "                if ask =='yes':\n",
    "                    self.connect_Wifi()\n",
    "                    print(f'{game_name} 을 다운로드 합니다.')\n",
    "                    self.game_list.append(game_name)\n",
    "                    return game_name\n",
    "                    break\n",
    "                elif ask == 'no':\n",
    "                    print('다운로드 실패')\n",
    "                    break\n",
    "    def back_to_main(self):\n",
    "        self.where = \"main\"\n",
    "    "
   ]
  },
  {
   "cell_type": "code",
   "execution_count": 4,
   "metadata": {},
   "outputs": [],
   "source": [
    "playstation = GameMachine(\"Sony\", \"slim\", \"black\")"
   ]
  },
  {
   "cell_type": "code",
   "execution_count": 5,
   "metadata": {},
   "outputs": [
    {
     "name": "stdout",
     "output_type": "stream",
     "text": [
      "전원이 켜졌습니다\n"
     ]
    }
   ],
   "source": [
    "playstation.power_on_or_off()"
   ]
  },
  {
   "cell_type": "code",
   "execution_count": 6,
   "metadata": {},
   "outputs": [
    {
     "name": "stdout",
     "output_type": "stream",
     "text": [
      "나의 games : ['피파', '위닝', 'GTA', '레데리', 'PSstore']\n"
     ]
    }
   ],
   "source": [
    "my_games = playstation.show_my_games()"
   ]
  },
  {
   "cell_type": "code",
   "execution_count": 7,
   "metadata": {},
   "outputs": [
    {
     "name": "stdout",
     "output_type": "stream",
     "text": [
      "Wifi 리스트가 없습니다. 검색하여 연결하시겠습니까? yes or noyes\n",
      "스파이더맨 을 다운로드 합니다.\n"
     ]
    }
   ],
   "source": [
    "new_game = playstation.game_download(\"스파이더맨\")"
   ]
  },
  {
   "cell_type": "code",
   "execution_count": 8,
   "metadata": {},
   "outputs": [
    {
     "name": "stdout",
     "output_type": "stream",
     "text": [
      "나의 games : ['피파', '위닝', 'GTA', '레데리', 'PSstore', '스파이더맨']\n"
     ]
    },
    {
     "data": {
      "text/plain": [
       "['피파', '위닝', 'GTA', '레데리', 'PSstore', '스파이더맨']"
      ]
     },
     "execution_count": 8,
     "metadata": {},
     "output_type": "execute_result"
    }
   ],
   "source": [
    "playstation.show_my_games()"
   ]
  },
  {
   "cell_type": "code",
   "execution_count": null,
   "metadata": {},
   "outputs": [],
   "source": []
  },
  {
   "cell_type": "code",
   "execution_count": null,
   "metadata": {},
   "outputs": [],
   "source": []
  },
  {
   "cell_type": "markdown",
   "metadata": {},
   "source": [
    "# 카페\n",
    "*속성\n",
    "    *테이블\n",
    "    *메뉴판\n",
    "    *무인\n",
    "    *커피원두\n",
    "    *오늘의커피\n",
    "    *오늘의주문량\n",
    "\n",
    "*기능\n",
    "    *주문받기\n",
    "    *커피만들기\n",
    "    *완료알림"
   ]
  },
  {
   "cell_type": "code",
   "execution_count": 25,
   "metadata": {},
   "outputs": [],
   "source": [
    "class Cafe:\n",
    "    무인 = False\n",
    "    오늘의주문량 = 0\n",
    "    \n",
    "    def __init__(self, 테이블수, 메뉴판, 커피원두, 오늘의커피):\n",
    "        # 인스턴스 변수\n",
    "        self.테이블수 = 테이블수,\n",
    "        self.메뉴판 = 메뉴판,\n",
    "        self.커피원두 = 커피원두\n",
    "        self.오늘의커피 = 오늘의커피\n",
    "        \n",
    "    def 주문받기(self, 주문=\"아메리카노\"):\n",
    "        if 주문 not in self.메뉴판:\n",
    "            raise IndexError(\"주문하신 음료가 메뉴에 없습니다.\")\n",
    "        else:\n",
    "            print(f\"{주문} 1잔 주문 받았습니다\")\n",
    "            self.오늘의주문량 += 1\n",
    "    \n",
    "    def 커피만들기(self):\n",
    "        print(\"커피만들기 시작\")\n",
    "        print(\"...\")\n",
    "        print(\"커피완성\")\n",
    "        \n",
    "    def 완료알림(self):\n",
    "        print(\"주문하신 음료 나왔습니다.\")"
   ]
  },
  {
   "cell_type": "code",
   "execution_count": 26,
   "metadata": {},
   "outputs": [],
   "source": [
    "starbucks = Cafe(30, [\"아메리카노\", \"돌체라떼\", \"자바칩프라프치노\", \"소이라떼\", \"딸기라떼\"], [\"케냐원두\", \"예가체프\", \"에티오피아\", \"온두라스\"], \"아메리카노\")"
   ]
  },
  {
   "cell_type": "code",
   "execution_count": 27,
   "metadata": {},
   "outputs": [
    {
     "ename": "NameError",
     "evalue": "name '무인' is not defined",
     "output_type": "error",
     "traceback": [
      "\u001b[0;31m---------------------------------------------------------------------------\u001b[0m",
      "\u001b[0;31mNameError\u001b[0m                                 Traceback (most recent call last)",
      "\u001b[0;32m<ipython-input-27-044fac4e9e3a>\u001b[0m in \u001b[0;36m<module>\u001b[0;34m\u001b[0m\n\u001b[0;32m----> 1\u001b[0;31m \u001b[0mprint\u001b[0m\u001b[0;34m(\u001b[0m\u001b[0mstarbucks\u001b[0m\u001b[0;34m,\u001b[0m\u001b[0m무인\u001b[0m\u001b[0;34m)\u001b[0m\u001b[0;34m\u001b[0m\u001b[0;34m\u001b[0m\u001b[0m\n\u001b[0m\u001b[1;32m      2\u001b[0m \u001b[0mprint\u001b[0m\u001b[0;34m(\u001b[0m\u001b[0mstarbucks\u001b[0m\u001b[0;34m,\u001b[0m\u001b[0m오늘의주문량\u001b[0m\u001b[0;34m)\u001b[0m\u001b[0;34m\u001b[0m\u001b[0;34m\u001b[0m\u001b[0m\n\u001b[1;32m      3\u001b[0m \u001b[0mprint\u001b[0m\u001b[0;34m(\u001b[0m\u001b[0mstarbucks\u001b[0m\u001b[0;34m,\u001b[0m\u001b[0m테이블수\u001b[0m\u001b[0;34m)\u001b[0m\u001b[0;34m\u001b[0m\u001b[0;34m\u001b[0m\u001b[0m\n\u001b[1;32m      4\u001b[0m \u001b[0mprint\u001b[0m\u001b[0;34m(\u001b[0m\u001b[0mstarbucks\u001b[0m\u001b[0;34m,\u001b[0m\u001b[0m커피원두\u001b[0m\u001b[0;34m)\u001b[0m\u001b[0;34m\u001b[0m\u001b[0;34m\u001b[0m\u001b[0m\n\u001b[1;32m      5\u001b[0m \u001b[0mprint\u001b[0m\u001b[0;34m(\u001b[0m\u001b[0mstarbucks\u001b[0m\u001b[0;34m,\u001b[0m\u001b[0m오늘의커피\u001b[0m\u001b[0;34m)\u001b[0m\u001b[0;34m\u001b[0m\u001b[0;34m\u001b[0m\u001b[0m\n",
      "\u001b[0;31mNameError\u001b[0m: name '무인' is not defined"
     ]
    }
   ],
   "source": [
    "print(starbucks,무인)\n",
    "print(starbucks,오늘의주문량)\n",
    "print(starbucks,테이블수)\n",
    "print(starbucks,커피원두)\n",
    "print(starbucks,오늘의커피)\n",
    "print(starbucks,메뉴판)"
   ]
  },
  {
   "cell_type": "code",
   "execution_count": null,
   "metadata": {},
   "outputs": [],
   "source": []
  }
 ],
 "metadata": {
  "kernelspec": {
   "display_name": "Python 3",
   "language": "python",
   "name": "python3"
  },
  "language_info": {
   "codemirror_mode": {
    "name": "ipython",
    "version": 3
   },
   "file_extension": ".py",
   "mimetype": "text/x-python",
   "name": "python",
   "nbconvert_exporter": "python",
   "pygments_lexer": "ipython3",
   "version": "3.7.9"
  }
 },
 "nbformat": 4,
 "nbformat_minor": 4
}
