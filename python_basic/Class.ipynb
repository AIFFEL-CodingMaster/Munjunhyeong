{
 "cells": [
  {
   "cell_type": "code",
   "execution_count": 3,
   "metadata": {},
   "outputs": [],
   "source": [
    "class GameMachine:\n",
    "    where = \"main\"\n",
    "    power = 'off'\n",
    "    game_list = [\"피파\", \"위닝\", \"GTA\", \"레데리\"]\n",
    "    Wifi = \"off\"\n",
    "    \n",
    "    def __init__(self, company, model, color):\n",
    "        self.company = company,\n",
    "        self.model = model,\n",
    "        self.color = color\n",
    "        \n",
    "        if company == \"Sony\":\n",
    "            self.game_list.append(\"PSstore\")\n",
    "        else:\n",
    "            self.game_list.append(\"Xboxlive\")\n",
    "    \n",
    "    def power_on_or_off(self):\n",
    "        if self.power == 'off':\n",
    "            self.power = 'on'\n",
    "            print('전원이 켜졌습니다')\n",
    "        elif self.power == 'on':\n",
    "            self.power = 'off'\n",
    "            print('전원이 꺼졌습니다')\n",
    "            \n",
    "    def show_my_games(self):\n",
    "        print(f\"나의 games : {self.game_list}\")\n",
    "        return self.game_list\n",
    "    \n",
    "    def connect_Wifi(self):\n",
    "        self.Wifi == \"on\"\n",
    "        \n",
    "    def game_download(self, game_name):\n",
    "        if self.company == \"Sony\":\n",
    "            self.where = \"PSstore\"\n",
    "        else:\n",
    "            self.where = \"Xboxlive\"\n",
    "        \n",
    "        if self.Wifi =='on' and self.power =='on':\n",
    "            print(f'{game_name} 을 다운로드 합니다.')\n",
    "            return self.game_list\n",
    "        \n",
    "        elif self.power == 'off':\n",
    "            raise RuntimeError('전원을 확인하세요')\n",
    "            \n",
    "        elif self.Wifi =='off':\n",
    "            while True:\n",
    "                ask = input('Wifi 리스트가 없습니다. 검색하여 연결하시겠습니까? yes or no')\n",
    "                if ask =='yes':\n",
    "                    self.connect_Wifi()\n",
    "                    print(f'{game_name} 을 다운로드 합니다.')\n",
    "                    self.game_list.append(game_name)\n",
    "                    return game_name\n",
    "                    break\n",
    "                elif ask == 'no':\n",
    "                    print('다운로드 실패')\n",
    "                    break\n",
    "    def back_to_main(self):\n",
    "        self.where = \"main\"\n",
    "    "
   ]
  },
  {
   "cell_type": "code",
   "execution_count": 4,
   "metadata": {},
   "outputs": [],
   "source": [
    "playstation = GameMachine(\"Sony\", \"slim\", \"black\")"
   ]
  },
  {
   "cell_type": "code",
   "execution_count": 5,
   "metadata": {},
   "outputs": [
    {
     "name": "stdout",
     "output_type": "stream",
     "text": [
      "전원이 켜졌습니다\n"
     ]
    }
   ],
   "source": [
    "playstation.power_on_or_off()"
   ]
  },
  {
   "cell_type": "code",
   "execution_count": 6,
   "metadata": {},
   "outputs": [
    {
     "name": "stdout",
     "output_type": "stream",
     "text": [
      "나의 games : ['피파', '위닝', 'GTA', '레데리', 'PSstore']\n"
     ]
    }
   ],
   "source": [
    "my_games = playstation.show_my_games()"
   ]
  },
  {
   "cell_type": "code",
   "execution_count": 7,
   "metadata": {},
   "outputs": [
    {
     "name": "stdout",
     "output_type": "stream",
     "text": [
      "Wifi 리스트가 없습니다. 검색하여 연결하시겠습니까? yes or noyes\n",
      "스파이더맨 을 다운로드 합니다.\n"
     ]
    }
   ],
   "source": [
    "new_game = playstation.game_download(\"스파이더맨\")"
   ]
  },
  {
   "cell_type": "code",
   "execution_count": 8,
   "metadata": {},
   "outputs": [
    {
     "name": "stdout",
     "output_type": "stream",
     "text": [
      "나의 games : ['피파', '위닝', 'GTA', '레데리', 'PSstore', '스파이더맨']\n"
     ]
    },
    {
     "data": {
      "text/plain": [
       "['피파', '위닝', 'GTA', '레데리', 'PSstore', '스파이더맨']"
      ]
     },
     "execution_count": 8,
     "metadata": {},
     "output_type": "execute_result"
    }
   ],
   "source": [
    "playstation.show_my_games()"
   ]
  },
  {
   "cell_type": "code",
   "execution_count": null,
   "metadata": {},
   "outputs": [],
   "source": []
  },
  {
   "cell_type": "code",
   "execution_count": null,
   "metadata": {},
   "outputs": [],
   "source": []
  },
  {
   "cell_type": "markdown",
   "metadata": {},
   "source": [
    "# 카페\n",
    "*속성\n",
    "    *테이블\n",
    "    *메뉴판\n",
    "    *무인\n",
    "    *커피원두\n",
    "    *오늘의커피\n",
    "    *오늘의주문량\n",
    "\n",
    "*기능\n",
    "    *주문받기\n",
    "    *커피만들기\n",
    "    *완료알림"
   ]
  },
  {
   "cell_type": "code",
   "execution_count": 1,
   "metadata": {},
   "outputs": [],
   "source": [
    "class Cafe:\n",
    "    무인 = False\n",
    "    오늘의주문량 = 0\n",
    "    \n",
    "    def __init__(self, 테이블수, 메뉴판, 커피원두, 오늘의커피):\n",
    "        # 인스턴스 변수\n",
    "        self.테이블수 = 테이블수,\n",
    "        self.메뉴판 = 메뉴판,\n",
    "        self.커피원두 = 커피원두\n",
    "        self.오늘의커피 = 오늘의커피\n",
    "        \n",
    "    def 주문받기(self, 주문=\"아메리카노\"):\n",
    "        if 주문 not in self.메뉴판:\n",
    "            raise IndexError(\"주문하신 음료가 메뉴에 없습니다.\")\n",
    "        else:\n",
    "            print(f\"{주문} 1잔 주문 받았습니다\")\n",
    "            self.오늘의주문량 += 1\n",
    "    \n",
    "    def 커피만들기(self):\n",
    "        print(\"커피만들기 시작\")\n",
    "        print(\"...\")\n",
    "        print(\"커피완성\")\n",
    "        \n",
    "    def 완료알림(self):\n",
    "        print(\"주문하신 음료 나왔습니다.\")"
   ]
  },
  {
   "cell_type": "code",
   "execution_count": 2,
   "metadata": {},
   "outputs": [],
   "source": [
    "starbucks = Cafe(30, [\"아메리카노\", \"돌체라떼\", \"자바칩프라프치노\", \"소이라떼\", \"딸기라떼\"], [\"케냐원두\", \"예가체프\", \"에티오피아\", \"온두라스\"], \"아메리카노\")"
   ]
  },
  {
   "cell_type": "code",
   "execution_count": 3,
   "metadata": {},
   "outputs": [
    {
     "ename": "NameError",
     "evalue": "name '무인' is not defined",
     "output_type": "error",
     "traceback": [
      "\u001b[0;31m---------------------------------------------------------------------------\u001b[0m",
      "\u001b[0;31mNameError\u001b[0m                                 Traceback (most recent call last)",
      "\u001b[0;32m<ipython-input-3-044fac4e9e3a>\u001b[0m in \u001b[0;36m<module>\u001b[0;34m\u001b[0m\n\u001b[0;32m----> 1\u001b[0;31m \u001b[0mprint\u001b[0m\u001b[0;34m(\u001b[0m\u001b[0mstarbucks\u001b[0m\u001b[0;34m,\u001b[0m\u001b[0m무인\u001b[0m\u001b[0;34m)\u001b[0m\u001b[0;34m\u001b[0m\u001b[0;34m\u001b[0m\u001b[0m\n\u001b[0m\u001b[1;32m      2\u001b[0m \u001b[0mprint\u001b[0m\u001b[0;34m(\u001b[0m\u001b[0mstarbucks\u001b[0m\u001b[0;34m,\u001b[0m\u001b[0m오늘의주문량\u001b[0m\u001b[0;34m)\u001b[0m\u001b[0;34m\u001b[0m\u001b[0;34m\u001b[0m\u001b[0m\n\u001b[1;32m      3\u001b[0m \u001b[0mprint\u001b[0m\u001b[0;34m(\u001b[0m\u001b[0mstarbucks\u001b[0m\u001b[0;34m,\u001b[0m\u001b[0m테이블수\u001b[0m\u001b[0;34m)\u001b[0m\u001b[0;34m\u001b[0m\u001b[0;34m\u001b[0m\u001b[0m\n\u001b[1;32m      4\u001b[0m \u001b[0mprint\u001b[0m\u001b[0;34m(\u001b[0m\u001b[0mstarbucks\u001b[0m\u001b[0;34m,\u001b[0m\u001b[0m커피원두\u001b[0m\u001b[0;34m)\u001b[0m\u001b[0;34m\u001b[0m\u001b[0;34m\u001b[0m\u001b[0m\n\u001b[1;32m      5\u001b[0m \u001b[0mprint\u001b[0m\u001b[0;34m(\u001b[0m\u001b[0mstarbucks\u001b[0m\u001b[0;34m,\u001b[0m\u001b[0m오늘의커피\u001b[0m\u001b[0;34m)\u001b[0m\u001b[0;34m\u001b[0m\u001b[0;34m\u001b[0m\u001b[0m\n",
      "\u001b[0;31mNameError\u001b[0m: name '무인' is not defined"
     ]
    }
   ],
   "source": [
    "print(starbucks,무인)\n",
    "print(starbucks,오늘의주문량)\n",
    "print(starbucks,테이블수)\n",
    "print(starbucks,커피원두)\n",
    "print(starbucks,오늘의커피)\n",
    "print(starbucks,메뉴판)"
   ]
  },
  {
   "cell_type": "code",
   "execution_count": 4,
   "metadata": {},
   "outputs": [
    {
     "data": {
      "text/plain": [
       "<bound method Cafe.주문받기 of <__main__.Cafe object at 0x7f73cbde3b10>>"
      ]
     },
     "execution_count": 4,
     "metadata": {},
     "output_type": "execute_result"
    }
   ],
   "source": [
    "starbucks.주문받기"
   ]
  },
  {
   "cell_type": "code",
   "execution_count": null,
   "metadata": {},
   "outputs": [],
   "source": []
  },
  {
   "cell_type": "code",
   "execution_count": null,
   "metadata": {},
   "outputs": [],
   "source": []
  },
  {
   "cell_type": "markdown",
   "metadata": {},
   "source": [
    "## 공장"
   ]
  },
  {
   "cell_type": "markdown",
   "metadata": {},
   "source": [
    "- 속성: 종류, 규모   \n",
    "- 기능: 생산, 포장"
   ]
  },
  {
   "cell_type": "code",
   "execution_count": 5,
   "metadata": {},
   "outputs": [],
   "source": [
    "class Factory:\n",
    "    \n",
    "    def __init__(self, kind, size):\n",
    "        self.kind = kind\n",
    "        self.size = size\n",
    "        \n",
    "    def make_production(self, what):\n",
    "        what = [what] * self.size\n",
    "        print(f\"{self.kind} 공장에서 생산을 합니다\")\n",
    "        return what\n",
    "    \n",
    "    def make_packing(self, what):\n",
    "        packing = {i:j for i, j in enumerate(what)}\n",
    "        print(f\"{self.kind} 포장을 합니다\")\n",
    "        return packing"
   ]
  },
  {
   "cell_type": "code",
   "execution_count": 6,
   "metadata": {},
   "outputs": [],
   "source": [
    "ice_cream_factory = Factory(\"아이스크림\", 10)"
   ]
  },
  {
   "cell_type": "code",
   "execution_count": null,
   "metadata": {},
   "outputs": [],
   "source": []
  },
  {
   "cell_type": "code",
   "execution_count": null,
   "metadata": {},
   "outputs": [],
   "source": []
  },
  {
   "cell_type": "markdown",
   "metadata": {},
   "source": [
    "### 모두의 연구소"
   ]
  },
  {
   "cell_type": "code",
   "execution_count": 8,
   "metadata": {},
   "outputs": [],
   "source": [
    "class Modulabs:\n",
    "    풀잎스쿨 = True\n",
    "    랩 = True\n",
    "    AIFFEL = True\n",
    "    풀잎멤버 = {}\n",
    "    랩멤버 = {}\n",
    "    AIFFEL멤버 = {}\n",
    "    \n",
    "    def 풀잎스쿨모집(self, name, member):\n",
    "        if self.풀잎스쿨 is False:\n",
    "            print (\"풀잎스쿨 모집기간이 아닙니다\")\n",
    "            while True:\n",
    "                yes_or_no = input(\"풀잎스쿨을 오픈하시겠습니까? : (y or n)\")\n",
    "                if yes_or_no == \"y\":\n",
    "                    print(\"풀잎스쿨 오픈\")\n",
    "                    self.풀잎스쿨 = True\n",
    "                    break\n",
    "                elif yes_or_no == \"n\":\n",
    "                    print(\"풀잎스쿨 오픈 안함\")\n",
    "                    break\n",
    "        else:\n",
    "            if isinstance(member, list) is False:\n",
    "                raise ValueError(\"List 로 입력해 주세요\")\n",
    "    \n",
    "        self.풀잎멤버[name] = member\n",
    "        return self.풀잎멤버\n",
    "    \n",
    "    def 풀잎스쿨멤버추가(self, name, member):\n",
    "        if type(member) == str:\n",
    "            self.풀잎멤버[name].append(member)\n",
    "        elif type(member) == list:\n",
    "            self.풀잎멤버[name].extend(member)\n",
    "        return self.풀잎멤버"
   ]
  },
  {
   "cell_type": "code",
   "execution_count": 9,
   "metadata": {},
   "outputs": [],
   "source": [
    "modulabs = Modulabs()"
   ]
  },
  {
   "cell_type": "code",
   "execution_count": null,
   "metadata": {},
   "outputs": [],
   "source": [
    "modulabs.풀잎스쿨멤버추가"
   ]
  }
 ],
 "metadata": {
  "kernelspec": {
   "display_name": "Python 3",
   "language": "python",
   "name": "python3"
  },
  "language_info": {
   "codemirror_mode": {
    "name": "ipython",
    "version": 3
   },
   "file_extension": ".py",
   "mimetype": "text/x-python",
   "name": "python",
   "nbconvert_exporter": "python",
   "pygments_lexer": "ipython3",
   "version": "3.7.9"
  }
 },
 "nbformat": 4,
 "nbformat_minor": 4
}
