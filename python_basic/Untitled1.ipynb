{
 "cells": [
  {
   "cell_type": "code",
   "execution_count": 1,
   "id": "inside-joint",
   "metadata": {},
   "outputs": [],
   "source": [
    "from collections import deque"
   ]
  },
  {
   "cell_type": "code",
   "execution_count": 2,
   "id": "strange-sleeping",
   "metadata": {},
   "outputs": [],
   "source": [
    "deque = deque()"
   ]
  },
  {
   "cell_type": "code",
   "execution_count": 3,
   "id": "virgin-requirement",
   "metadata": {},
   "outputs": [
    {
     "data": {
      "text/plain": [
       "deque([1])"
      ]
     },
     "execution_count": 3,
     "metadata": {},
     "output_type": "execute_result"
    }
   ],
   "source": [
    "deque.append(1)\n",
    "deque"
   ]
  },
  {
   "cell_type": "code",
   "execution_count": null,
   "id": "center-hometown",
   "metadata": {},
   "outputs": [],
   "source": []
  },
  {
   "cell_type": "code",
   "execution_count": 4,
   "id": "english-looking",
   "metadata": {},
   "outputs": [],
   "source": [
    "import array"
   ]
  },
  {
   "cell_type": "code",
   "execution_count": 5,
   "id": "moderate-optimum",
   "metadata": {},
   "outputs": [
    {
     "data": {
      "text/plain": [
       "'bBuhHiIlLqQfd'"
      ]
     },
     "execution_count": 5,
     "metadata": {},
     "output_type": "execute_result"
    }
   ],
   "source": [
    "array.typecodes"
   ]
  },
  {
   "cell_type": "code",
   "execution_count": 6,
   "id": "better-parcel",
   "metadata": {},
   "outputs": [],
   "source": [
    "array_3 = array.array(\"b\")"
   ]
  },
  {
   "cell_type": "code",
   "execution_count": 7,
   "id": "infinite-brooklyn",
   "metadata": {},
   "outputs": [],
   "source": [
    "array_3.append(1)"
   ]
  },
  {
   "cell_type": "code",
   "execution_count": 8,
   "id": "cardiac-sussex",
   "metadata": {},
   "outputs": [],
   "source": [
    "array_3.extend([2,3,4,5,6])"
   ]
  },
  {
   "cell_type": "code",
   "execution_count": 9,
   "id": "protected-president",
   "metadata": {},
   "outputs": [
    {
     "data": {
      "text/plain": [
       "array('b', [1, 2, 3, 4, 5, 6])"
      ]
     },
     "execution_count": 9,
     "metadata": {},
     "output_type": "execute_result"
    }
   ],
   "source": [
    "array_3"
   ]
  },
  {
   "cell_type": "code",
   "execution_count": null,
   "id": "preceding-milwaukee",
   "metadata": {},
   "outputs": [],
   "source": []
  },
  {
   "cell_type": "markdown",
   "id": "institutional-haiti",
   "metadata": {},
   "source": [
    "## 스택"
   ]
  },
  {
   "cell_type": "code",
   "execution_count": 10,
   "id": "suffering-detective",
   "metadata": {},
   "outputs": [],
   "source": [
    "stack = []"
   ]
  },
  {
   "cell_type": "code",
   "execution_count": 27,
   "id": "interior-humidity",
   "metadata": {},
   "outputs": [
    {
     "name": "stdout",
     "output_type": "stream",
     "text": [
      "[[1, 2, 3], 1]\n"
     ]
    }
   ],
   "source": [
    "stack.append(1)\n",
    "print(stack)"
   ]
  },
  {
   "cell_type": "code",
   "execution_count": 28,
   "id": "hindu-pickup",
   "metadata": {},
   "outputs": [
    {
     "data": {
      "text/plain": [
       "[[1, 2, 3], 1, [1, 2, 3]]"
      ]
     },
     "execution_count": 28,
     "metadata": {},
     "output_type": "execute_result"
    }
   ],
   "source": [
    "stack.append([1,2,3])\n",
    "stack"
   ]
  },
  {
   "cell_type": "code",
   "execution_count": 29,
   "id": "forty-water",
   "metadata": {},
   "outputs": [
    {
     "data": {
      "text/plain": [
       "[[1, 2, 3], 1, [1, 2, 3], 1, 2, 3]"
      ]
     },
     "execution_count": 29,
     "metadata": {},
     "output_type": "execute_result"
    }
   ],
   "source": [
    "stack.extend([1,2,3])\n",
    "stack"
   ]
  },
  {
   "cell_type": "code",
   "execution_count": 30,
   "id": "fifth-courage",
   "metadata": {},
   "outputs": [
    {
     "name": "stdout",
     "output_type": "stream",
     "text": [
      "[1, [1, 2, 3], 1, 2, 3]\n"
     ]
    }
   ],
   "source": [
    "stack.pop(0)\n",
    "print(stack)"
   ]
  },
  {
   "cell_type": "code",
   "execution_count": 15,
   "id": "twenty-guide",
   "metadata": {},
   "outputs": [
    {
     "name": "stdout",
     "output_type": "stream",
     "text": [
      "2\n"
     ]
    }
   ],
   "source": [
    "stack_popped = stack.pop()\n",
    "print(stack_popped)"
   ]
  },
  {
   "cell_type": "code",
   "execution_count": 18,
   "id": "protective-exemption",
   "metadata": {},
   "outputs": [],
   "source": [
    "# stack 클래스 만들어보기\n",
    "class Stack:\n",
    "    \n",
    "    def __init__(self, *args):\n",
    "        if args == ():\n",
    "            self.stack = []\n",
    "        else:\n",
    "            self.stack = [i for i in args]\n",
    "            \n",
    "    def push(self, *args):\n",
    "        self.stack += [i for i in args]\n",
    "        \n",
    "    def pop(self):\n",
    "        last = self.stack[-1]\n",
    "        del self.stack[-1]\n",
    "        return last\n",
    "    \n",
    "    def __repr__(self):\n",
    "        return f\"{self.stack}\""
   ]
  },
  {
   "cell_type": "code",
   "execution_count": 19,
   "id": "freelance-ghost",
   "metadata": {},
   "outputs": [],
   "source": [
    "stack_2 = Stack(1,2,3)"
   ]
  },
  {
   "cell_type": "code",
   "execution_count": 20,
   "id": "central-heather",
   "metadata": {},
   "outputs": [
    {
     "data": {
      "text/plain": [
       "[1, 2, 3]"
      ]
     },
     "execution_count": 20,
     "metadata": {},
     "output_type": "execute_result"
    }
   ],
   "source": [
    "stack_2"
   ]
  },
  {
   "cell_type": "code",
   "execution_count": 21,
   "id": "spare-chocolate",
   "metadata": {},
   "outputs": [
    {
     "data": {
      "text/plain": [
       "3"
      ]
     },
     "execution_count": 21,
     "metadata": {},
     "output_type": "execute_result"
    }
   ],
   "source": [
    "stack_2.pop()"
   ]
  },
  {
   "cell_type": "code",
   "execution_count": null,
   "id": "driven-massage",
   "metadata": {},
   "outputs": [],
   "source": []
  },
  {
   "cell_type": "markdown",
   "id": "hollow-government",
   "metadata": {},
   "source": [
    "## 큐"
   ]
  },
  {
   "cell_type": "code",
   "execution_count": 22,
   "id": "under-mediterranean",
   "metadata": {},
   "outputs": [],
   "source": [
    "queue = []"
   ]
  },
  {
   "cell_type": "code",
   "execution_count": 23,
   "id": "foreign-homeless",
   "metadata": {},
   "outputs": [
    {
     "name": "stdout",
     "output_type": "stream",
     "text": [
      "[1, 2, 3, 4]\n"
     ]
    }
   ],
   "source": [
    "queue.append(1)\n",
    "queue.extend([2,3,4])\n",
    "print(queue)"
   ]
  },
  {
   "cell_type": "code",
   "execution_count": 31,
   "id": "similar-maple",
   "metadata": {},
   "outputs": [
    {
     "name": "stdout",
     "output_type": "stream",
     "text": [
      "[2, 3]\n"
     ]
    }
   ],
   "source": [
    "queue.pop()\n",
    "print(queue)"
   ]
  },
  {
   "cell_type": "code",
   "execution_count": null,
   "id": "fluid-gathering",
   "metadata": {},
   "outputs": [],
   "source": []
  }
 ],
 "metadata": {
  "kernelspec": {
   "display_name": "aiffel",
   "language": "python",
   "name": "aiffel"
  },
  "language_info": {
   "codemirror_mode": {
    "name": "ipython",
    "version": 3
   },
   "file_extension": ".py",
   "mimetype": "text/x-python",
   "name": "python",
   "nbconvert_exporter": "python",
   "pygments_lexer": "ipython3",
   "version": "3.7.6"
  }
 },
 "nbformat": 4,
 "nbformat_minor": 5
}
