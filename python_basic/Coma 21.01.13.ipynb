{
 "cells": [
  {
   "cell_type": "markdown",
   "metadata": {},
   "source": [
    "# Escape from Coma"
   ]
  },
  {
   "cell_type": "markdown",
   "metadata": {},
   "source": []
  },
  {
   "cell_type": "code",
   "execution_count": 1,
   "metadata": {},
   "outputs": [
    {
     "name": "stdout",
     "output_type": "stream",
     "text": [
      "문준형 \n",
      " Jaden \n",
      " Seoul\n",
      "문준형 \t Jaden \t Seoul\n"
     ]
    }
   ],
   "source": [
    "# 변수 생성\n",
    "name = '문준형'\n",
    "eng_name = 'Jaden'\n",
    "city = 'Seoul'\n",
    "\n",
    "print (name,'\\n', eng_name, '\\n', city)\n",
    "print (name, '\\t', eng_name, '\\t', city)"
   ]
  },
  {
   "cell_type": "code",
   "execution_count": 2,
   "metadata": {},
   "outputs": [
    {
     "name": "stdout",
     "output_type": "stream",
     "text": [
      "1\n",
      "1\n"
     ]
    }
   ],
   "source": [
    "print (1)\n",
    "print ('1')"
   ]
  },
  {
   "cell_type": "markdown",
   "metadata": {},
   "source": []
  },
  {
   "cell_type": "code",
   "execution_count": 3,
   "metadata": {},
   "outputs": [
    {
     "name": "stdout",
     "output_type": "stream",
     "text": [
      "Seoul City\n"
     ]
    }
   ],
   "source": [
    "# 이어쓰기\n",
    "\n",
    "print ('Seoul', end=\" \")\n",
    "print ('City')"
   ]
  },
  {
   "cell_type": "markdown",
   "metadata": {},
   "source": []
  },
  {
   "cell_type": "code",
   "execution_count": 4,
   "metadata": {},
   "outputs": [
    {
     "name": "stdout",
     "output_type": "stream",
     "text": [
      "1.265\n",
      "1.2464\n",
      "4.263\n"
     ]
    }
   ],
   "source": [
    "# 반올림\n",
    "\n",
    "print ('%.3f' % 1.2654)\n",
    "print ('%.4f' % 1.246448654)\n",
    "\n",
    "pi = 4.262515\n",
    "print ('%.3f' % pi)"
   ]
  },
  {
   "cell_type": "markdown",
   "metadata": {},
   "source": []
  },
  {
   "cell_type": "code",
   "execution_count": 5,
   "metadata": {},
   "outputs": [
    {
     "name": "stdout",
     "output_type": "stream",
     "text": [
      "나는 10시에 운동하러 헬스장으로 돌아간다\n",
      "나는 오전 10시에 운동하러 헬스장에 가려 했지만 못갔다\n",
      "나는 오후 10시에 운동하러 헬스장에 가는 사람이 존경스럽다\n"
     ]
    }
   ],
   "source": [
    "# 문자 고급 출력\n",
    "\n",
    "when = 10\n",
    "where = \"헬스장\"\n",
    "why = \"운동하러\"\n",
    "\n",
    "print (\"나는 %d시에 %s %s으로 돌아간다\"%(when, why, where))\n",
    "print (\"나는 오전 {}시에 {} {}에 가려 했지만 못갔다\".format(when, why, where))\n",
    "print (f\"나는 오후 {when}시에 {why} {where}에 가는 사람이 존경스럽다\")"
   ]
  },
  {
   "cell_type": "markdown",
   "metadata": {},
   "source": []
  },
  {
   "cell_type": "code",
   "execution_count": 6,
   "metadata": {},
   "outputs": [
    {
     "name": "stdout",
     "output_type": "stream",
     "text": [
      "12\n"
     ]
    }
   ],
   "source": [
    "# 사칙연산\n",
    "a = 10\n",
    "b = 2\n",
    "\n",
    "print (a + b)"
   ]
  },
  {
   "cell_type": "markdown",
   "metadata": {},
   "source": []
  },
  {
   "cell_type": "code",
   "execution_count": 7,
   "metadata": {},
   "outputs": [
    {
     "name": "stdout",
     "output_type": "stream",
     "text": [
      "8\n",
      "8단\n",
      "8 x 1 = 8\n",
      "8 x 2 = 16\n",
      "8 x 3 = 24\n",
      "8 x 4 = 32\n",
      "8 x 5 = 40\n",
      "8 x 6 = 48\n",
      "8 x 7 = 56\n",
      "8 x 8 = 64\n",
      "8 x 9 = 72\n"
     ]
    }
   ],
   "source": [
    "# 구구단 만들기\n",
    "\n",
    "num = int(input())\n",
    "\n",
    "print (f\"{num}단\")\n",
    "print (f'{num} x 1 = {num*1}')\n",
    "print (f'{num} x 2 = {num*2}')\n",
    "print (f'{num} x 3 = {num*3}')\n",
    "print (f'{num} x 4 = {num*4}')\n",
    "print (f'{num} x 5 = {num*5}')\n",
    "print (f'{num} x 6 = {num*6}')\n",
    "print (f'{num} x 7 = {num*7}')\n",
    "print (f'{num} x 8 = {num*8}')\n",
    "print (f'{num} x 9 = {num*9}')"
   ]
  },
  {
   "cell_type": "markdown",
   "metadata": {},
   "source": []
  },
  {
   "cell_type": "code",
   "execution_count": 10,
   "metadata": {},
   "outputs": [
    {
     "name": "stdout",
     "output_type": "stream",
     "text": [
      "[8, 11, '생일']\n",
      "[12, 25, '크리스마스']\n"
     ]
    }
   ],
   "source": [
    "# 리스트 활용\n",
    "\n",
    "a = [8, 11, \"생일\"]\n",
    "b = [12, 25, \"크리스마스\"]\n",
    "\n",
    "print (a)\n",
    "print (b)"
   ]
  },
  {
   "cell_type": "markdown",
   "metadata": {},
   "source": []
  },
  {
   "cell_type": "code",
   "execution_count": 14,
   "metadata": {},
   "outputs": [
    {
     "name": "stdout",
     "output_type": "stream",
     "text": [
      "{1, 2, 3, 4}\n"
     ]
    }
   ],
   "source": [
    "# 집합\n",
    "\n",
    "set_a = {1,1,2,2,3,3,3}\n",
    "set_a.add(4)\n",
    "print (set_a)"
   ]
  },
  {
   "cell_type": "markdown",
   "metadata": {},
   "source": []
  },
  {
   "cell_type": "code",
   "execution_count": 20,
   "metadata": {},
   "outputs": [
    {
     "name": "stdout",
     "output_type": "stream",
     "text": [
      "139939235412000\n",
      "94169746677600\n",
      "139939295246192\n"
     ]
    }
   ],
   "source": [
    "a = [1, 2, 3]\n",
    "b = 100\n",
    "c = 100.0\n",
    "\n",
    "# 각 값의 주소값 구하기\n",
    "print (id(a))\n",
    "print (id(b))\n",
    "print (id(c))"
   ]
  },
  {
   "cell_type": "code",
   "execution_count": 22,
   "metadata": {},
   "outputs": [
    {
     "name": "stdout",
     "output_type": "stream",
     "text": [
      "False\n",
      "False\n",
      "False\n",
      "True\n"
     ]
    }
   ],
   "source": [
    "# 비교연산자 is\n",
    "\n",
    "d = a\n",
    "\n",
    "print (a is b)\n",
    "print (a is c)\n",
    "print (b is c)\n",
    "print (a is d)"
   ]
  },
  {
   "cell_type": "code",
   "execution_count": 23,
   "metadata": {},
   "outputs": [
    {
     "name": "stdout",
     "output_type": "stream",
     "text": [
      "139939235412000\n",
      "139939235412000\n"
     ]
    }
   ],
   "source": [
    "print (id(a))\n",
    "print (id(d))"
   ]
  },
  {
   "cell_type": "markdown",
   "metadata": {},
   "source": []
  },
  {
   "cell_type": "code",
   "execution_count": 25,
   "metadata": {},
   "outputs": [
    {
     "name": "stdout",
     "output_type": "stream",
     "text": [
      "55\n",
      "100보다 작음\n"
     ]
    }
   ],
   "source": [
    "# if 문\n",
    "\n",
    "list_1 = [1, 2, 3, 4, 5, 6, 7, 8, 9, 10]\n",
    "\n",
    "if sum(list_1) < 100:\n",
    "    print (sum(list_1))\n",
    "    print (\"100보다 작음\")"
   ]
  },
  {
   "cell_type": "code",
   "execution_count": 26,
   "metadata": {},
   "outputs": [
    {
     "name": "stdout",
     "output_type": "stream",
     "text": [
      "다 틀렸넹\n"
     ]
    }
   ],
   "source": [
    "if sum(list_1) > 100:\n",
    "    print (\"100보다 작음\")\n",
    "elif sum(list_1) > 70:\n",
    "    print (\"이것마저 안됨\")\n",
    "else:\n",
    "    print (\"다 틀렸넹\")"
   ]
  },
  {
   "cell_type": "code",
   "execution_count": 32,
   "metadata": {},
   "outputs": [
    {
     "name": "stdout",
     "output_type": "stream",
     "text": [
      "list_3: [1, 2, 3, 4, 5, 6, 7, 8, 9]\n"
     ]
    }
   ],
   "source": [
    "list_3 = [1,2,3,4,5,6,7,8,9]\n",
    "\n",
    "if len(list_3) < 10:\n",
    "    print(\"list_3:\",list_3)\n"
   ]
  },
  {
   "cell_type": "code",
   "execution_count": 31,
   "metadata": {},
   "outputs": [],
   "source": [
    "list_3 = {1,2,3,4,5,6,7,8,9}\n",
    "\n",
    "if type(a) == set:\n",
    "    print (\"type of a:set\")\n",
    "    "
   ]
  },
  {
   "cell_type": "markdown",
   "metadata": {},
   "source": []
  },
  {
   "cell_type": "code",
   "execution_count": null,
   "metadata": {},
   "outputs": [],
   "source": [
    "# 반복문 while\n",
    "A = 0\n",
    "\n",
    "while A == 0:\n",
    "    print (1,2,3)"
   ]
  },
  {
   "cell_type": "code",
   "execution_count": 35,
   "metadata": {},
   "outputs": [
    {
     "name": "stdout",
     "output_type": "stream",
     "text": [
      "9\n",
      "8\n",
      "7\n",
      "6\n",
      "5\n",
      "4\n",
      "3\n",
      "2\n",
      "[1]\n"
     ]
    }
   ],
   "source": [
    "list_1 = [1,2,3,4,5,6,7,8,9]\n",
    "\n",
    "while len(list_1) > 1:\n",
    "    print (list_1.pop())\n",
    "    \n",
    "print (list_1)"
   ]
  },
  {
   "cell_type": "code",
   "execution_count": 37,
   "metadata": {},
   "outputs": [
    {
     "name": "stdout",
     "output_type": "stream",
     "text": [
      "oh my....\n"
     ]
    }
   ],
   "source": [
    "n = 10\n",
    "\n",
    "while n > 0:\n",
    "    print (\"oh my....\")\n",
    "    break"
   ]
  },
  {
   "cell_type": "code",
   "execution_count": 38,
   "metadata": {},
   "outputs": [
    {
     "name": "stdout",
     "output_type": "stream",
     "text": [
      "n: 10\n",
      "n: 9\n",
      "n: 8\n",
      "n: 7\n",
      "n: 6\n"
     ]
    }
   ],
   "source": [
    "n = 10\n",
    "\n",
    "while n > 0:\n",
    "    print (\"n:\", n)\n",
    "    n = n-1\n",
    "    \n",
    "    if n == 5:\n",
    "        break\n",
    "    "
   ]
  },
  {
   "cell_type": "code",
   "execution_count": null,
   "metadata": {},
   "outputs": [],
   "source": []
  }
 ],
 "metadata": {
  "kernelspec": {
   "display_name": "Python 3",
   "language": "python",
   "name": "python3"
  },
  "language_info": {
   "codemirror_mode": {
    "name": "ipython",
    "version": 3
   },
   "file_extension": ".py",
   "mimetype": "text/x-python",
   "name": "python",
   "nbconvert_exporter": "python",
   "pygments_lexer": "ipython3",
   "version": "3.7.9"
  }
 },
 "nbformat": 4,
 "nbformat_minor": 4
}
