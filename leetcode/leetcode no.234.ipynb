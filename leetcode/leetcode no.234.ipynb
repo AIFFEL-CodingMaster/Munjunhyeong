{
 "cells": [
  {
   "cell_type": "code",
   "execution_count": null,
   "id": "resident-tumor",
   "metadata": {},
   "outputs": [],
   "source": [
    "# leetcode 234번\n",
    "\n",
    "class Solution:\n",
    "    def isPalindrome(self, head: ListNode) -> bool:\n",
    "        #temp = deque()\n",
    "        temp = [head.val, ]\n",
    "    \n",
    "        while head.next:\n",
    "            head.val = head.next.val\n",
    "            head.next = head.next.next\n",
    "            temp.append(head.val)\n",
    "    \n",
    "        #for i in head:\n",
    "            #d.append(i)\n",
    "        \n",
    "        #temp = list(map(lambda x : str(x) , temp))\n",
    "        #temp = ''.join(temp)\n",
    "        \n",
    "        palindrome = True\n",
    "        for i in range(len(temp) // 2):\n",
    "            if temp[i] != temp[-1 - i]:\n",
    "                palindrome = False  \n",
    "                break\n",
    "\n",
    "        return palindrome"
   ]
  }
 ],
 "metadata": {
  "kernelspec": {
   "display_name": "Python 3",
   "language": "python",
   "name": "python3"
  },
  "language_info": {
   "codemirror_mode": {
    "name": "ipython",
    "version": 3
   },
   "file_extension": ".py",
   "mimetype": "text/x-python",
   "name": "python",
   "nbconvert_exporter": "python",
   "pygments_lexer": "ipython3",
   "version": "3.7.9"
  }
 },
 "nbformat": 4,
 "nbformat_minor": 5
}
