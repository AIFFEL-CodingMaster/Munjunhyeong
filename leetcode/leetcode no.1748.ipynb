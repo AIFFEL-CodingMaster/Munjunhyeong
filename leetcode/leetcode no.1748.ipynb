{
 "cells": [
  {
   "cell_type": "code",
   "execution_count": 6,
   "id": "bigger-match",
   "metadata": {},
   "outputs": [
    {
     "data": {
      "text/plain": [
       "<__main__.Solution at 0x7fc834ee7790>"
      ]
     },
     "execution_count": 6,
     "metadata": {},
     "output_type": "execute_result"
    }
   ],
   "source": [
    "# 리트코드 1748번 문제 풀이\n",
    "from collections import Counter\n",
    "\n",
    "nums = [1, 2, 3, 2]\n",
    "\n",
    "class Solution:\n",
    "    def sumOfUnique(self, nums):\n",
    "        nums = [1, 2, 3, 2]\n",
    "        n = Counter(nums)\n",
    "        temp = []\n",
    "        for key, value in n.items():\n",
    "            if value == 1:\n",
    "                temp.append(key)\n",
    "        return sum(temp)"
   ]
  },
  {
   "cell_type": "code",
   "execution_count": null,
   "id": "liquid-thing",
   "metadata": {},
   "outputs": [],
   "source": []
  }
 ],
 "metadata": {
  "kernelspec": {
   "display_name": "aiffel",
   "language": "python",
   "name": "aiffel"
  },
  "language_info": {
   "codemirror_mode": {
    "name": "ipython",
    "version": 3
   },
   "file_extension": ".py",
   "mimetype": "text/x-python",
   "name": "python",
   "nbconvert_exporter": "python",
   "pygments_lexer": "ipython3",
   "version": "3.7.6"
  }
 },
 "nbformat": 4,
 "nbformat_minor": 5
}
