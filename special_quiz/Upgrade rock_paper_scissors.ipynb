{
 "cells": [
  {
   "cell_type": "code",
   "execution_count": 4,
   "metadata": {},
   "outputs": [
    {
     "name": "stdout",
     "output_type": "stream",
     "text": [
      "player_1 : 가위, 바위, 보 중에 하나를 입력하세요 : 바위\n",
      "player_2 : 가위, 바위, 보 중에 하나를 입력하세요 : 보\n",
      "경기결과: player_2 승\n",
      "player_1 : 가위, 바위, 보 중에 하나를 입력하세요 : 보\n",
      "player_2 : 가위, 바위, 보 중에 하나를 입력하세요 : 보\n",
      "경기결과: 비김\n",
      "player_1 : 가위, 바위, 보 중에 하나를 입력하세요 : 보\n",
      "player_2 : 가위, 바위, 보 중에 하나를 입력하세요 : 보\n",
      "경기결과: 비김\n"
     ]
    }
   ],
   "source": [
    "number = 3\n",
    "while number > 0:\n",
    "    number -= 1\n",
    "    player_1 = input(\"player_1 : 가위, 바위, 보 중에 하나를 입력하세요 : \")\n",
    "    player_2 = input(\"player_2 : 가위, 바위, 보 중에 하나를 입력하세요 : \")\n",
    "\n",
    "    if player_1 == player_2:\n",
    "        print (\"경기결과: 비김\")\n",
    "    elif player_1 == \"가위\" and player_2 == \"보\":\n",
    "        print (\"경기결과: player_1 승\")\n",
    "    elif player_1 == \"가위\" and player_2 == \"바위\":\n",
    "        print (\"경기결과: player_2 승\")\n",
    "    elif player_1 == \"보\" and player_2 == \"바위\":\n",
    "        print (\"경기결과: player_1 승\")\n",
    "    elif player_1 == \"보\" and player_2 == \"가위\":\n",
    "        print (\"경기결과: player_2 승\")\n",
    "    elif player_1 == \"바위\" and player_2 == \"가위\":\n",
    "        print (\"경기결과: player_1 승\")\n",
    "    elif player_1 == \"바위\" and player_2 == \"보\":\n",
    "        print (\"경기결과: player_2 승\")\n",
    "    else:\n",
    "        print (\"잘못된 입력을 하였습니다.\")"
   ]
  },
  {
   "cell_type": "code",
   "execution_count": null,
   "metadata": {},
   "outputs": [],
   "source": [
    "from random import randint\n",
    "n = int(input(\"몇 판 ?\"))\n",
    "g = randint(0,9)\n",
    "\n",
    "while g > 0:\n",
    "    g -= 1\n",
    "    player_1 = input(\"player_1 : 가위, 바위, 보 중에 하나를 입력하세요 : \")\n",
    "    player_2 = input(\"player_2 : 가위, 바위, 보 중에 하나를 입력하세요 : \")\n",
    "\n",
    "    if player_1 == player_2:\n",
    "        print (\"경기결과: 비김\")\n",
    "    elif player_1 == \"가위\" and player_2 == \"보\":\n",
    "        print (\"경기결과: player_1 승\")\n",
    "    elif player_1 == \"가위\" and player_2 == \"바위\":\n",
    "        print (\"경기결과: player_2 승\")\n",
    "    elif player_1 == \"보\" and player_2 == \"바위\":\n",
    "        print (\"경기결과: player_1 승\")\n",
    "    elif player_1 == \"보\" and player_2 == \"가위\":\n",
    "        print (\"경기결과: player_2 승\")\n",
    "    elif player_1 == \"바위\" and player_2 == \"가위\":\n",
    "        print (\"경기결과: player_1 승\")\n",
    "    elif player_1 == \"바위\" and player_2 == \"보\":\n",
    "        print (\"경기결과: player_2 승\")\n",
    "    else:\n",
    "        print (\"잘못된 입력을 하였습니다.\")"
   ]
  },
  {
   "cell_type": "code",
   "execution_count": null,
   "metadata": {},
   "outputs": [],
   "source": []
  }
 ],
 "metadata": {
  "kernelspec": {
   "display_name": "Python 3",
   "language": "python",
   "name": "python3"
  },
  "language_info": {
   "codemirror_mode": {
    "name": "ipython",
    "version": 3
   },
   "file_extension": ".py",
   "mimetype": "text/x-python",
   "name": "python",
   "nbconvert_exporter": "python",
   "pygments_lexer": "ipython3",
   "version": "3.7.9"
  }
 },
 "nbformat": 4,
 "nbformat_minor": 4
}
